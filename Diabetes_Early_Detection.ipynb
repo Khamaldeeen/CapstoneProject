{
  "nbformat": 4,
  "nbformat_minor": 0,
  "metadata": {
    "colab": {
      "name": "Diabetes Early Detection.ipynb",
      "provenance": [],
      "toc_visible": true
    },
    "kernelspec": {
      "name": "python3",
      "display_name": "Python 3"
    }
  },
  "cells": [
    {
      "cell_type": "markdown",
      "metadata": {
        "id": "VQxGOWcoyinQ"
      },
      "source": [
        "## Project Title: Diabetes Early Detection"
      ]
    },
    {
      "cell_type": "markdown",
      "metadata": {
        "id": "2NlD6dvsywAu"
      },
      "source": [
        "## Abstract\n",
        "<p> The menace of diabetes cannot be overemphasized as it is a prevalent disease among people. It is not even evident in young people and as such, numerous research has to be taken in place in order to get facts which can assist in early detection of diabetes. </p>\n",
        "<p> The main goal of this project is to collect anonymous data of diabetes patients and anaylyzie some of their persisitent health conditions observed in their body system before eventually being diagnosed of diabetes. </p>\n",
        "<p> The advantage of this model is that, it can easily examine some features and accurately tell if a patieent is likely to develop diabetes </p>"
      ]
    },
    {
      "cell_type": "markdown",
      "metadata": {
        "id": "i5-_GRgg0Neg"
      },
      "source": [
        "# Introduction\n",
        "<p> Diabetes is a group of disease that affect how the body uses blood sugar (Glucose). The glucose is a vital substance in our body that makes up healthy living since it's a very important source of energy for the cells that make up the muslces and tissues. Infact, the brain is highy dependent on it for source of fuel and functionaity. </p> \n",
        "<p> There are numerous underlying causes of diabetes and it varies by types. However, each type of diabetes has one sole purpose and that is to increase the amount of sugar in the body thereby leading to excess amount of it in the blood. This can lead to serious health complicaions. </p> \n",
        "<p> Chronic diabetes conditions include type 1 and type 2 diabetes. In some cases, there are the reversible forms of diabetes which are also known as prediabetes. It occurs in cases when the sugar in the blood is high than normal but it is not classified yet as dibetes and also gestational diabetes, which occurs during preganancy but may resolve after the baby is delivered </p>"
      ]
    },
    {
      "cell_type": "markdown",
      "metadata": {
        "id": "ltqgwFW74CmJ"
      },
      "source": [
        "**Importing necessary libraries for EDA and Data Cleaning**"
      ]
    },
    {
      "cell_type": "code",
      "metadata": {
        "id": "XQiEguSbyX98"
      },
      "source": [
        "import numpy as np \n",
        "import pandas as pd \n",
        "import matplotlib.pyplot as plt \n",
        "import seaborn as sns \n",
        "sns.set(style='darkgrid')"
      ],
      "execution_count": null,
      "outputs": []
    },
    {
      "cell_type": "markdown",
      "metadata": {
        "id": "g7Dw39Ul4obr"
      },
      "source": [
        "#Load data"
      ]
    },
    {
      "cell_type": "code",
      "metadata": {
        "id": "U_js230_4mmT",
        "colab": {
          "base_uri": "https://localhost:8080/",
          "height": 258
        },
        "outputId": "3f5b9713-0d8a-4a10-a9c8-fc174df7a766"
      },
      "source": [
        "data = pd.read_csv('diabetes.csv')\n",
        "#Data preview\n",
        "data.head(5)"
      ],
      "execution_count": null,
      "outputs": [
        {
          "output_type": "execute_result",
          "data": {
            "text/html": [
              "<div>\n",
              "<style scoped>\n",
              "    .dataframe tbody tr th:only-of-type {\n",
              "        vertical-align: middle;\n",
              "    }\n",
              "\n",
              "    .dataframe tbody tr th {\n",
              "        vertical-align: top;\n",
              "    }\n",
              "\n",
              "    .dataframe thead th {\n",
              "        text-align: right;\n",
              "    }\n",
              "</style>\n",
              "<table border=\"1\" class=\"dataframe\">\n",
              "  <thead>\n",
              "    <tr style=\"text-align: right;\">\n",
              "      <th></th>\n",
              "      <th>Age</th>\n",
              "      <th>Gender</th>\n",
              "      <th>Polyuria</th>\n",
              "      <th>Polydipsia</th>\n",
              "      <th>sudden weight loss</th>\n",
              "      <th>weakness</th>\n",
              "      <th>Polyphagia</th>\n",
              "      <th>Genital thrush</th>\n",
              "      <th>visual blurring</th>\n",
              "      <th>Itching</th>\n",
              "      <th>Irritability</th>\n",
              "      <th>delayed healing</th>\n",
              "      <th>partial paresis</th>\n",
              "      <th>muscle stiffness</th>\n",
              "      <th>Alopecia</th>\n",
              "      <th>Obesity</th>\n",
              "      <th>class</th>\n",
              "    </tr>\n",
              "  </thead>\n",
              "  <tbody>\n",
              "    <tr>\n",
              "      <th>0</th>\n",
              "      <td>40</td>\n",
              "      <td>Male</td>\n",
              "      <td>No</td>\n",
              "      <td>Yes</td>\n",
              "      <td>No</td>\n",
              "      <td>Yes</td>\n",
              "      <td>No</td>\n",
              "      <td>No</td>\n",
              "      <td>No</td>\n",
              "      <td>Yes</td>\n",
              "      <td>No</td>\n",
              "      <td>Yes</td>\n",
              "      <td>No</td>\n",
              "      <td>Yes</td>\n",
              "      <td>Yes</td>\n",
              "      <td>Yes</td>\n",
              "      <td>Positive</td>\n",
              "    </tr>\n",
              "    <tr>\n",
              "      <th>1</th>\n",
              "      <td>58</td>\n",
              "      <td>Male</td>\n",
              "      <td>No</td>\n",
              "      <td>No</td>\n",
              "      <td>No</td>\n",
              "      <td>Yes</td>\n",
              "      <td>No</td>\n",
              "      <td>No</td>\n",
              "      <td>Yes</td>\n",
              "      <td>No</td>\n",
              "      <td>No</td>\n",
              "      <td>No</td>\n",
              "      <td>Yes</td>\n",
              "      <td>No</td>\n",
              "      <td>Yes</td>\n",
              "      <td>No</td>\n",
              "      <td>Positive</td>\n",
              "    </tr>\n",
              "    <tr>\n",
              "      <th>2</th>\n",
              "      <td>41</td>\n",
              "      <td>Male</td>\n",
              "      <td>Yes</td>\n",
              "      <td>No</td>\n",
              "      <td>No</td>\n",
              "      <td>Yes</td>\n",
              "      <td>Yes</td>\n",
              "      <td>No</td>\n",
              "      <td>No</td>\n",
              "      <td>Yes</td>\n",
              "      <td>No</td>\n",
              "      <td>Yes</td>\n",
              "      <td>No</td>\n",
              "      <td>Yes</td>\n",
              "      <td>Yes</td>\n",
              "      <td>No</td>\n",
              "      <td>Positive</td>\n",
              "    </tr>\n",
              "    <tr>\n",
              "      <th>3</th>\n",
              "      <td>45</td>\n",
              "      <td>Male</td>\n",
              "      <td>No</td>\n",
              "      <td>No</td>\n",
              "      <td>Yes</td>\n",
              "      <td>Yes</td>\n",
              "      <td>Yes</td>\n",
              "      <td>Yes</td>\n",
              "      <td>No</td>\n",
              "      <td>Yes</td>\n",
              "      <td>No</td>\n",
              "      <td>Yes</td>\n",
              "      <td>No</td>\n",
              "      <td>No</td>\n",
              "      <td>No</td>\n",
              "      <td>No</td>\n",
              "      <td>Positive</td>\n",
              "    </tr>\n",
              "    <tr>\n",
              "      <th>4</th>\n",
              "      <td>60</td>\n",
              "      <td>Male</td>\n",
              "      <td>Yes</td>\n",
              "      <td>Yes</td>\n",
              "      <td>Yes</td>\n",
              "      <td>Yes</td>\n",
              "      <td>Yes</td>\n",
              "      <td>No</td>\n",
              "      <td>Yes</td>\n",
              "      <td>Yes</td>\n",
              "      <td>Yes</td>\n",
              "      <td>Yes</td>\n",
              "      <td>Yes</td>\n",
              "      <td>Yes</td>\n",
              "      <td>Yes</td>\n",
              "      <td>Yes</td>\n",
              "      <td>Positive</td>\n",
              "    </tr>\n",
              "  </tbody>\n",
              "</table>\n",
              "</div>"
            ],
            "text/plain": [
              "   Age Gender Polyuria Polydipsia  ... muscle stiffness Alopecia Obesity     class\n",
              "0   40   Male       No        Yes  ...              Yes      Yes     Yes  Positive\n",
              "1   58   Male       No         No  ...               No      Yes      No  Positive\n",
              "2   41   Male      Yes         No  ...              Yes      Yes      No  Positive\n",
              "3   45   Male       No         No  ...               No       No      No  Positive\n",
              "4   60   Male      Yes        Yes  ...              Yes      Yes     Yes  Positive\n",
              "\n",
              "[5 rows x 17 columns]"
            ]
          },
          "metadata": {
            "tags": []
          },
          "execution_count": 4
        }
      ]
    },
    {
      "cell_type": "code",
      "metadata": {
        "id": "UM4g-w9RGAUh",
        "colab": {
          "base_uri": "https://localhost:8080/",
          "height": 258
        },
        "outputId": "39e86fac-3d11-4b8f-d0bc-811eaa12459d"
      },
      "source": [
        "data.tail(5)"
      ],
      "execution_count": null,
      "outputs": [
        {
          "output_type": "execute_result",
          "data": {
            "text/html": [
              "<div>\n",
              "<style scoped>\n",
              "    .dataframe tbody tr th:only-of-type {\n",
              "        vertical-align: middle;\n",
              "    }\n",
              "\n",
              "    .dataframe tbody tr th {\n",
              "        vertical-align: top;\n",
              "    }\n",
              "\n",
              "    .dataframe thead th {\n",
              "        text-align: right;\n",
              "    }\n",
              "</style>\n",
              "<table border=\"1\" class=\"dataframe\">\n",
              "  <thead>\n",
              "    <tr style=\"text-align: right;\">\n",
              "      <th></th>\n",
              "      <th>Age</th>\n",
              "      <th>Gender</th>\n",
              "      <th>Polyuria</th>\n",
              "      <th>Polydipsia</th>\n",
              "      <th>sudden weight loss</th>\n",
              "      <th>weakness</th>\n",
              "      <th>Polyphagia</th>\n",
              "      <th>Genital thrush</th>\n",
              "      <th>visual blurring</th>\n",
              "      <th>Itching</th>\n",
              "      <th>Irritability</th>\n",
              "      <th>delayed healing</th>\n",
              "      <th>partial paresis</th>\n",
              "      <th>muscle stiffness</th>\n",
              "      <th>Alopecia</th>\n",
              "      <th>Obesity</th>\n",
              "      <th>class</th>\n",
              "    </tr>\n",
              "  </thead>\n",
              "  <tbody>\n",
              "    <tr>\n",
              "      <th>515</th>\n",
              "      <td>39</td>\n",
              "      <td>Female</td>\n",
              "      <td>Yes</td>\n",
              "      <td>Yes</td>\n",
              "      <td>Yes</td>\n",
              "      <td>No</td>\n",
              "      <td>Yes</td>\n",
              "      <td>No</td>\n",
              "      <td>No</td>\n",
              "      <td>Yes</td>\n",
              "      <td>No</td>\n",
              "      <td>Yes</td>\n",
              "      <td>Yes</td>\n",
              "      <td>No</td>\n",
              "      <td>No</td>\n",
              "      <td>No</td>\n",
              "      <td>Positive</td>\n",
              "    </tr>\n",
              "    <tr>\n",
              "      <th>516</th>\n",
              "      <td>48</td>\n",
              "      <td>Female</td>\n",
              "      <td>Yes</td>\n",
              "      <td>Yes</td>\n",
              "      <td>Yes</td>\n",
              "      <td>Yes</td>\n",
              "      <td>Yes</td>\n",
              "      <td>No</td>\n",
              "      <td>No</td>\n",
              "      <td>Yes</td>\n",
              "      <td>Yes</td>\n",
              "      <td>Yes</td>\n",
              "      <td>Yes</td>\n",
              "      <td>No</td>\n",
              "      <td>No</td>\n",
              "      <td>No</td>\n",
              "      <td>Positive</td>\n",
              "    </tr>\n",
              "    <tr>\n",
              "      <th>517</th>\n",
              "      <td>58</td>\n",
              "      <td>Female</td>\n",
              "      <td>Yes</td>\n",
              "      <td>Yes</td>\n",
              "      <td>Yes</td>\n",
              "      <td>Yes</td>\n",
              "      <td>Yes</td>\n",
              "      <td>No</td>\n",
              "      <td>Yes</td>\n",
              "      <td>No</td>\n",
              "      <td>No</td>\n",
              "      <td>No</td>\n",
              "      <td>Yes</td>\n",
              "      <td>Yes</td>\n",
              "      <td>No</td>\n",
              "      <td>Yes</td>\n",
              "      <td>Positive</td>\n",
              "    </tr>\n",
              "    <tr>\n",
              "      <th>518</th>\n",
              "      <td>32</td>\n",
              "      <td>Female</td>\n",
              "      <td>No</td>\n",
              "      <td>No</td>\n",
              "      <td>No</td>\n",
              "      <td>Yes</td>\n",
              "      <td>No</td>\n",
              "      <td>No</td>\n",
              "      <td>Yes</td>\n",
              "      <td>Yes</td>\n",
              "      <td>No</td>\n",
              "      <td>Yes</td>\n",
              "      <td>No</td>\n",
              "      <td>No</td>\n",
              "      <td>Yes</td>\n",
              "      <td>No</td>\n",
              "      <td>Negative</td>\n",
              "    </tr>\n",
              "    <tr>\n",
              "      <th>519</th>\n",
              "      <td>42</td>\n",
              "      <td>Male</td>\n",
              "      <td>No</td>\n",
              "      <td>No</td>\n",
              "      <td>No</td>\n",
              "      <td>No</td>\n",
              "      <td>No</td>\n",
              "      <td>No</td>\n",
              "      <td>No</td>\n",
              "      <td>No</td>\n",
              "      <td>No</td>\n",
              "      <td>No</td>\n",
              "      <td>No</td>\n",
              "      <td>No</td>\n",
              "      <td>No</td>\n",
              "      <td>No</td>\n",
              "      <td>Negative</td>\n",
              "    </tr>\n",
              "  </tbody>\n",
              "</table>\n",
              "</div>"
            ],
            "text/plain": [
              "     Age  Gender Polyuria  ... Alopecia Obesity     class\n",
              "515   39  Female      Yes  ...       No      No  Positive\n",
              "516   48  Female      Yes  ...       No      No  Positive\n",
              "517   58  Female      Yes  ...       No     Yes  Positive\n",
              "518   32  Female       No  ...      Yes      No  Negative\n",
              "519   42    Male       No  ...       No      No  Negative\n",
              "\n",
              "[5 rows x 17 columns]"
            ]
          },
          "metadata": {
            "tags": []
          },
          "execution_count": 5
        }
      ]
    },
    {
      "cell_type": "markdown",
      "metadata": {
        "id": "yiXgpWSV74Eb"
      },
      "source": [
        "Check for missing values.\n",
        "There are several methods for checking for missing values. \n",
        "1. We can start by showing the unique values in a categorical data.\n",
        "2. Use the isnull function to cumulate numbers of nan if there exists any\n",
        "3. We can equally replace missing numbers with np.nan"
      ]
    },
    {
      "cell_type": "code",
      "metadata": {
        "id": "FUv9_DJb8fCF",
        "colab": {
          "base_uri": "https://localhost:8080/"
        },
        "outputId": "d99d8af1-0f2f-46c9-826c-99fd12d42b97"
      },
      "source": [
        "for i in data.columns:\n",
        "  print(data[i].unique())"
      ],
      "execution_count": null,
      "outputs": [
        {
          "output_type": "stream",
          "text": [
            "[40 58 41 45 60 55 57 66 67 70 44 38 35 61 54 43 62 39 48 32 42 52 53 37\n",
            " 49 63 30 50 46 36 51 59 65 25 47 28 68 56 31 85 90 72 69 79 34 16 33 64\n",
            " 27 29 26]\n",
            "['Male' 'Female']\n",
            "['No' 'Yes']\n",
            "['Yes' 'No']\n",
            "['No' 'Yes']\n",
            "['Yes' 'No']\n",
            "['No' 'Yes']\n",
            "['No' 'Yes']\n",
            "['No' 'Yes']\n",
            "['Yes' 'No']\n",
            "['No' 'Yes']\n",
            "['Yes' 'No']\n",
            "['No' 'Yes']\n",
            "['Yes' 'No']\n",
            "['Yes' 'No']\n",
            "['Yes' 'No']\n",
            "['Positive' 'Negative']\n"
          ],
          "name": "stdout"
        }
      ]
    },
    {
      "cell_type": "code",
      "metadata": {
        "id": "1WgxyY9T5TGr",
        "colab": {
          "base_uri": "https://localhost:8080/"
        },
        "outputId": "3b543288-cb53-45dd-fdab-945a4f9b9cb0"
      },
      "source": [
        "data.isnull().sum()"
      ],
      "execution_count": null,
      "outputs": [
        {
          "output_type": "execute_result",
          "data": {
            "text/plain": [
              "Age                   0\n",
              "Gender                0\n",
              "Polyuria              0\n",
              "Polydipsia            0\n",
              "sudden weight loss    0\n",
              "weakness              0\n",
              "Polyphagia            0\n",
              "Genital thrush        0\n",
              "visual blurring       0\n",
              "Itching               0\n",
              "Irritability          0\n",
              "delayed healing       0\n",
              "partial paresis       0\n",
              "muscle stiffness      0\n",
              "Alopecia              0\n",
              "Obesity               0\n",
              "class                 0\n",
              "dtype: int64"
            ]
          },
          "metadata": {
            "tags": []
          },
          "execution_count": 7
        }
      ]
    },
    {
      "cell_type": "markdown",
      "metadata": {
        "id": "O29OV_8y8r3D"
      },
      "source": [
        "Above result indicate there are no missing values or data represented by '?' or unexpected character. "
      ]
    },
    {
      "cell_type": "markdown",
      "metadata": {
        "id": "hOxzVuRM88wL"
      },
      "source": [
        "5 Data summary"
      ]
    },
    {
      "cell_type": "code",
      "metadata": {
        "id": "b6xk5xdg8qCz",
        "colab": {
          "base_uri": "https://localhost:8080/",
          "height": 444
        },
        "outputId": "6c001212-caf5-4d0f-bfd8-3990e7ce2ca3"
      },
      "source": [
        "data.describe(include='all')"
      ],
      "execution_count": null,
      "outputs": [
        {
          "output_type": "execute_result",
          "data": {
            "text/html": [
              "<div>\n",
              "<style scoped>\n",
              "    .dataframe tbody tr th:only-of-type {\n",
              "        vertical-align: middle;\n",
              "    }\n",
              "\n",
              "    .dataframe tbody tr th {\n",
              "        vertical-align: top;\n",
              "    }\n",
              "\n",
              "    .dataframe thead th {\n",
              "        text-align: right;\n",
              "    }\n",
              "</style>\n",
              "<table border=\"1\" class=\"dataframe\">\n",
              "  <thead>\n",
              "    <tr style=\"text-align: right;\">\n",
              "      <th></th>\n",
              "      <th>Age</th>\n",
              "      <th>Gender</th>\n",
              "      <th>Polyuria</th>\n",
              "      <th>Polydipsia</th>\n",
              "      <th>sudden weight loss</th>\n",
              "      <th>weakness</th>\n",
              "      <th>Polyphagia</th>\n",
              "      <th>Genital thrush</th>\n",
              "      <th>visual blurring</th>\n",
              "      <th>Itching</th>\n",
              "      <th>Irritability</th>\n",
              "      <th>delayed healing</th>\n",
              "      <th>partial paresis</th>\n",
              "      <th>muscle stiffness</th>\n",
              "      <th>Alopecia</th>\n",
              "      <th>Obesity</th>\n",
              "      <th>class</th>\n",
              "    </tr>\n",
              "  </thead>\n",
              "  <tbody>\n",
              "    <tr>\n",
              "      <th>count</th>\n",
              "      <td>520.000000</td>\n",
              "      <td>520</td>\n",
              "      <td>520</td>\n",
              "      <td>520</td>\n",
              "      <td>520</td>\n",
              "      <td>520</td>\n",
              "      <td>520</td>\n",
              "      <td>520</td>\n",
              "      <td>520</td>\n",
              "      <td>520</td>\n",
              "      <td>520</td>\n",
              "      <td>520</td>\n",
              "      <td>520</td>\n",
              "      <td>520</td>\n",
              "      <td>520</td>\n",
              "      <td>520</td>\n",
              "      <td>520</td>\n",
              "    </tr>\n",
              "    <tr>\n",
              "      <th>unique</th>\n",
              "      <td>NaN</td>\n",
              "      <td>2</td>\n",
              "      <td>2</td>\n",
              "      <td>2</td>\n",
              "      <td>2</td>\n",
              "      <td>2</td>\n",
              "      <td>2</td>\n",
              "      <td>2</td>\n",
              "      <td>2</td>\n",
              "      <td>2</td>\n",
              "      <td>2</td>\n",
              "      <td>2</td>\n",
              "      <td>2</td>\n",
              "      <td>2</td>\n",
              "      <td>2</td>\n",
              "      <td>2</td>\n",
              "      <td>2</td>\n",
              "    </tr>\n",
              "    <tr>\n",
              "      <th>top</th>\n",
              "      <td>NaN</td>\n",
              "      <td>Male</td>\n",
              "      <td>No</td>\n",
              "      <td>No</td>\n",
              "      <td>No</td>\n",
              "      <td>Yes</td>\n",
              "      <td>No</td>\n",
              "      <td>No</td>\n",
              "      <td>No</td>\n",
              "      <td>No</td>\n",
              "      <td>No</td>\n",
              "      <td>No</td>\n",
              "      <td>No</td>\n",
              "      <td>No</td>\n",
              "      <td>No</td>\n",
              "      <td>No</td>\n",
              "      <td>Positive</td>\n",
              "    </tr>\n",
              "    <tr>\n",
              "      <th>freq</th>\n",
              "      <td>NaN</td>\n",
              "      <td>328</td>\n",
              "      <td>262</td>\n",
              "      <td>287</td>\n",
              "      <td>303</td>\n",
              "      <td>305</td>\n",
              "      <td>283</td>\n",
              "      <td>404</td>\n",
              "      <td>287</td>\n",
              "      <td>267</td>\n",
              "      <td>394</td>\n",
              "      <td>281</td>\n",
              "      <td>296</td>\n",
              "      <td>325</td>\n",
              "      <td>341</td>\n",
              "      <td>432</td>\n",
              "      <td>320</td>\n",
              "    </tr>\n",
              "    <tr>\n",
              "      <th>mean</th>\n",
              "      <td>48.028846</td>\n",
              "      <td>NaN</td>\n",
              "      <td>NaN</td>\n",
              "      <td>NaN</td>\n",
              "      <td>NaN</td>\n",
              "      <td>NaN</td>\n",
              "      <td>NaN</td>\n",
              "      <td>NaN</td>\n",
              "      <td>NaN</td>\n",
              "      <td>NaN</td>\n",
              "      <td>NaN</td>\n",
              "      <td>NaN</td>\n",
              "      <td>NaN</td>\n",
              "      <td>NaN</td>\n",
              "      <td>NaN</td>\n",
              "      <td>NaN</td>\n",
              "      <td>NaN</td>\n",
              "    </tr>\n",
              "    <tr>\n",
              "      <th>std</th>\n",
              "      <td>12.151466</td>\n",
              "      <td>NaN</td>\n",
              "      <td>NaN</td>\n",
              "      <td>NaN</td>\n",
              "      <td>NaN</td>\n",
              "      <td>NaN</td>\n",
              "      <td>NaN</td>\n",
              "      <td>NaN</td>\n",
              "      <td>NaN</td>\n",
              "      <td>NaN</td>\n",
              "      <td>NaN</td>\n",
              "      <td>NaN</td>\n",
              "      <td>NaN</td>\n",
              "      <td>NaN</td>\n",
              "      <td>NaN</td>\n",
              "      <td>NaN</td>\n",
              "      <td>NaN</td>\n",
              "    </tr>\n",
              "    <tr>\n",
              "      <th>min</th>\n",
              "      <td>16.000000</td>\n",
              "      <td>NaN</td>\n",
              "      <td>NaN</td>\n",
              "      <td>NaN</td>\n",
              "      <td>NaN</td>\n",
              "      <td>NaN</td>\n",
              "      <td>NaN</td>\n",
              "      <td>NaN</td>\n",
              "      <td>NaN</td>\n",
              "      <td>NaN</td>\n",
              "      <td>NaN</td>\n",
              "      <td>NaN</td>\n",
              "      <td>NaN</td>\n",
              "      <td>NaN</td>\n",
              "      <td>NaN</td>\n",
              "      <td>NaN</td>\n",
              "      <td>NaN</td>\n",
              "    </tr>\n",
              "    <tr>\n",
              "      <th>25%</th>\n",
              "      <td>39.000000</td>\n",
              "      <td>NaN</td>\n",
              "      <td>NaN</td>\n",
              "      <td>NaN</td>\n",
              "      <td>NaN</td>\n",
              "      <td>NaN</td>\n",
              "      <td>NaN</td>\n",
              "      <td>NaN</td>\n",
              "      <td>NaN</td>\n",
              "      <td>NaN</td>\n",
              "      <td>NaN</td>\n",
              "      <td>NaN</td>\n",
              "      <td>NaN</td>\n",
              "      <td>NaN</td>\n",
              "      <td>NaN</td>\n",
              "      <td>NaN</td>\n",
              "      <td>NaN</td>\n",
              "    </tr>\n",
              "    <tr>\n",
              "      <th>50%</th>\n",
              "      <td>47.500000</td>\n",
              "      <td>NaN</td>\n",
              "      <td>NaN</td>\n",
              "      <td>NaN</td>\n",
              "      <td>NaN</td>\n",
              "      <td>NaN</td>\n",
              "      <td>NaN</td>\n",
              "      <td>NaN</td>\n",
              "      <td>NaN</td>\n",
              "      <td>NaN</td>\n",
              "      <td>NaN</td>\n",
              "      <td>NaN</td>\n",
              "      <td>NaN</td>\n",
              "      <td>NaN</td>\n",
              "      <td>NaN</td>\n",
              "      <td>NaN</td>\n",
              "      <td>NaN</td>\n",
              "    </tr>\n",
              "    <tr>\n",
              "      <th>75%</th>\n",
              "      <td>57.000000</td>\n",
              "      <td>NaN</td>\n",
              "      <td>NaN</td>\n",
              "      <td>NaN</td>\n",
              "      <td>NaN</td>\n",
              "      <td>NaN</td>\n",
              "      <td>NaN</td>\n",
              "      <td>NaN</td>\n",
              "      <td>NaN</td>\n",
              "      <td>NaN</td>\n",
              "      <td>NaN</td>\n",
              "      <td>NaN</td>\n",
              "      <td>NaN</td>\n",
              "      <td>NaN</td>\n",
              "      <td>NaN</td>\n",
              "      <td>NaN</td>\n",
              "      <td>NaN</td>\n",
              "    </tr>\n",
              "    <tr>\n",
              "      <th>max</th>\n",
              "      <td>90.000000</td>\n",
              "      <td>NaN</td>\n",
              "      <td>NaN</td>\n",
              "      <td>NaN</td>\n",
              "      <td>NaN</td>\n",
              "      <td>NaN</td>\n",
              "      <td>NaN</td>\n",
              "      <td>NaN</td>\n",
              "      <td>NaN</td>\n",
              "      <td>NaN</td>\n",
              "      <td>NaN</td>\n",
              "      <td>NaN</td>\n",
              "      <td>NaN</td>\n",
              "      <td>NaN</td>\n",
              "      <td>NaN</td>\n",
              "      <td>NaN</td>\n",
              "      <td>NaN</td>\n",
              "    </tr>\n",
              "  </tbody>\n",
              "</table>\n",
              "</div>"
            ],
            "text/plain": [
              "               Age Gender Polyuria  ... Alopecia Obesity     class\n",
              "count   520.000000    520      520  ...      520     520       520\n",
              "unique         NaN      2        2  ...        2       2         2\n",
              "top            NaN   Male       No  ...       No      No  Positive\n",
              "freq           NaN    328      262  ...      341     432       320\n",
              "mean     48.028846    NaN      NaN  ...      NaN     NaN       NaN\n",
              "std      12.151466    NaN      NaN  ...      NaN     NaN       NaN\n",
              "min      16.000000    NaN      NaN  ...      NaN     NaN       NaN\n",
              "25%      39.000000    NaN      NaN  ...      NaN     NaN       NaN\n",
              "50%      47.500000    NaN      NaN  ...      NaN     NaN       NaN\n",
              "75%      57.000000    NaN      NaN  ...      NaN     NaN       NaN\n",
              "max      90.000000    NaN      NaN  ...      NaN     NaN       NaN\n",
              "\n",
              "[11 rows x 17 columns]"
            ]
          },
          "metadata": {
            "tags": []
          },
          "execution_count": 8
        }
      ]
    },
    {
      "cell_type": "markdown",
      "metadata": {
        "id": "9ww0dkVz9N8n"
      },
      "source": [
        "There are 530 0bservations, with the average age to be placed around 48 years of age. "
      ]
    },
    {
      "cell_type": "markdown",
      "metadata": {
        "id": "cl_yumCpABl_"
      },
      "source": [
        "# EDA"
      ]
    },
    {
      "cell_type": "code",
      "metadata": {
        "id": "idlGsNZl9FlQ"
      },
      "source": [
        "# This function plots the varation of features as against the severity of having diabetes\n",
        "#Can give us better insights on the powerful deciding features on the the possibility of developing diabetes.\n",
        "def barPlot(column):\n",
        "    '''\n",
        "    column takes the value of the current column feature which is used to plot against the class  of diabetes.\n",
        "    '''\n",
        "    fig = plt.figure(figsize = (15,6))\n",
        "    sns.barplot(column, 'Class', data=data)\n",
        "    plt.show()"
      ],
      "execution_count": null,
      "outputs": []
    },
    {
      "cell_type": "markdown",
      "metadata": {
        "id": "BG5olcZWBuGF"
      },
      "source": [
        "Creating a list containing predictor variables and a seperate list which is the target variable. \n",
        "The age is not a factor here since we are more concered about the features that were recorded and if they eventually came psotive for the diabetes dignosis.\n",
        "However, we can assign the age to a class of Young, Adult/Middle age and Old age. "
      ]
    },
    {
      "cell_type": "code",
      "metadata": {
        "id": "lq741skcAdM-"
      },
      "source": [
        "age = ['Age']\n",
        "targ = ['Class', 'class']\n",
        "pred_col = [x for x in data.columns if x not in age + targ]\n",
        "data['Class'] = data['class'].map({'Positive':1, 'Negative':0})\n"
      ],
      "execution_count": null,
      "outputs": []
    },
    {
      "cell_type": "code",
      "metadata": {
        "id": "_Wyi_BfWAxfG",
        "colab": {
          "base_uri": "https://localhost:8080/"
        },
        "outputId": "8c21cd62-fb51-4566-db67-17869a164743"
      },
      "source": [
        "data['Gender'].value_counts()"
      ],
      "execution_count": null,
      "outputs": [
        {
          "output_type": "execute_result",
          "data": {
            "text/plain": [
              "Male      328\n",
              "Female    192\n",
              "Name: Gender, dtype: int64"
            ]
          },
          "metadata": {
            "tags": []
          },
          "execution_count": 11
        }
      ]
    },
    {
      "cell_type": "code",
      "metadata": {
        "id": "uHXVqkGXBcJA"
      },
      "source": [
        "def ageGroup(x):\n",
        "  if x <= 25:\n",
        "    return 'Young'\n",
        "  elif x > 25 and x < 60:\n",
        "    return 'Middle Age'\n",
        "  else:\n",
        "    return 'Old'"
      ],
      "execution_count": null,
      "outputs": []
    },
    {
      "cell_type": "code",
      "metadata": {
        "id": "Bz8Q-zoMEbym"
      },
      "source": [
        "data['Age Group'] = data['Age'].apply(ageGroup)"
      ],
      "execution_count": null,
      "outputs": []
    },
    {
      "cell_type": "code",
      "metadata": {
        "id": "1rO8hA5MEiWx",
        "colab": {
          "base_uri": "https://localhost:8080/"
        },
        "outputId": "a261ad28-1b53-439a-e4f0-781b71d121be"
      },
      "source": [
        "data['Age Group'].value_counts()"
      ],
      "execution_count": null,
      "outputs": [
        {
          "output_type": "execute_result",
          "data": {
            "text/plain": [
              "Middle Age    422\n",
              "Old            95\n",
              "Young           3\n",
              "Name: Age Group, dtype: int64"
            ]
          },
          "metadata": {
            "tags": []
          },
          "execution_count": 14
        }
      ]
    },
    {
      "cell_type": "markdown",
      "metadata": {
        "id": "KjtQOS_yGRT7"
      },
      "source": [
        "From the above observation, it is safe to ignore the age distrubuton and focus on other predictors."
      ]
    },
    {
      "cell_type": "code",
      "metadata": {
        "id": "7dAOB6SOExPz"
      },
      "source": [
        "pred_col1 = pred_col + ['Age Group']"
      ],
      "execution_count": null,
      "outputs": []
    },
    {
      "cell_type": "code",
      "metadata": {
        "id": "KMDDT9lMGk1l",
        "colab": {
          "base_uri": "https://localhost:8080/",
          "height": 1000
        },
        "outputId": "ac0ad34c-8219-4671-ceec-5faa76a5f0a5"
      },
      "source": [
        "for i in pred_col1:\n",
        "  barPlot(i)"
      ],
      "execution_count": null,
      "outputs": [
        {
          "output_type": "stream",
          "text": [
            "/usr/local/lib/python3.6/dist-packages/seaborn/_decorators.py:43: FutureWarning: Pass the following variables as keyword args: x, y. From version 0.12, the only valid positional argument will be `data`, and passing other arguments without an explicit keyword will result in an error or misinterpretation.\n",
            "  FutureWarning\n"
          ],
          "name": "stderr"
        },
        {
          "output_type": "display_data",
          "data": {
            "image/png": "[encoded data removed]",
            "text/plain": [
              "<Figure size 1080x432 with 1 Axes>"
            ]
          },
          "metadata": {
            "tags": []
          }
        },
        {
          "output_type": "stream",
          "text": [
            "/usr/local/lib/python3.6/dist-packages/seaborn/_decorators.py:43: FutureWarning: Pass the following variables as keyword args: x, y. From version 0.12, the only valid positional argument will be `data`, and passing other arguments without an explicit keyword will result in an error or misinterpretation.\n",
            "  FutureWarning\n"
          ],
          "name": "stderr"
        },
        {
          "output_type": "display_data",
          "data": {
            "image/png": "[encoded data removed]",
            "text/plain": [
              "<Figure size 1080x432 with 1 Axes>"
            ]
          },
          "metadata": {
            "tags": []
          }
        },
        {
          "output_type": "stream",
          "text": [
            "/usr/local/lib/python3.6/dist-packages/seaborn/_decorators.py:43: FutureWarning: Pass the following variables as keyword args: x, y. From version 0.12, the only valid positional argument will be `data`, and passing other arguments without an explicit keyword will result in an error or misinterpretation.\n",
            "  FutureWarning\n"
          ],
          "name": "stderr"
        },
        {
          "output_type": "display_data",
          "data": {
            "image/png": "[encoded data removed]",
            "text/plain": [
              "<Figure size 1080x432 with 1 Axes>"
            ]
          },
          "metadata": {
            "tags": []
          }
        },
        {
          "output_type": "stream",
          "text": [
            "/usr/local/lib/python3.6/dist-packages/seaborn/_decorators.py:43: FutureWarning: Pass the following variables as keyword args: x, y. From version 0.12, the only valid positional argument will be `data`, and passing other arguments without an explicit keyword will result in an error or misinterpretation.\n",
            "  FutureWarning\n"
          ],
          "name": "stderr"
        },
        {
          "output_type": "display_data",
          "data": {
            "image/png": "[encoded data removed]",
            "text/plain": [
              "<Figure size 1080x432 with 1 Axes>"
            ]
          },
          "metadata": {
            "tags": []
          }
        },
        {
          "output_type": "stream",
          "text": [
            "/usr/local/lib/python3.6/dist-packages/seaborn/_decorators.py:43: FutureWarning: Pass the following variables as keyword args: x, y. From version 0.12, the only valid positional argument will be `data`, and passing other arguments without an explicit keyword will result in an error or misinterpretation.\n",
            "  FutureWarning\n"
          ],
          "name": "stderr"
        },
        {
          "output_type": "display_data",
          "data": {
            "image/png": "[encoded data removed]",
            "text/plain": [
              "<Figure size 1080x432 with 1 Axes>"
            ]
          },
          "metadata": {
            "tags": []
          }
        },
        {
          "output_type": "stream",
          "text": [
            "/usr/local/lib/python3.6/dist-packages/seaborn/_decorators.py:43: FutureWarning: Pass the following variables as keyword args: x, y. From version 0.12, the only valid positional argument will be `data`, and passing other arguments without an explicit keyword will result in an error or misinterpretation.\n",
            "  FutureWarning\n"
          ],
          "name": "stderr"
        },
        {
          "output_type": "display_data",
          "data": {
            "image/png": "[encoded data removed]",
            "text/plain": [
              "<Figure size 1080x432 with 1 Axes>"
            ]
          },
          "metadata": {
            "tags": []
          }
        },
        {
          "output_type": "stream",
          "text": [
            "/usr/local/lib/python3.6/dist-packages/seaborn/_decorators.py:43: FutureWarning: Pass the following variables as keyword args: x, y. From version 0.12, the only valid positional argument will be `data`, and passing other arguments without an explicit keyword will result in an error or misinterpretation.\n",
            "  FutureWarning\n"
          ],
          "name": "stderr"
        },
        {
          "output_type": "display_data",
          "data": {
            "image/png": "[encoded data removed]",
            "text/plain": [
              "<Figure size 1080x432 with 1 Axes>"
            ]
          },
          "metadata": {
            "tags": []
          }
        },
        {
          "output_type": "stream",
          "text": [
            "/usr/local/lib/python3.6/dist-packages/seaborn/_decorators.py:43: FutureWarning: Pass the following variables as keyword args: x, y. From version 0.12, the only valid positional argument will be `data`, and passing other arguments without an explicit keyword will result in an error or misinterpretation.\n",
            "  FutureWarning\n"
          ],
          "name": "stderr"
        },
        {
          "output_type": "display_data",
          "data": {
            "image/png": "[encoded data removed]",
            "text/plain": [
              "<Figure size 1080x432 with 1 Axes>"
            ]
          },
          "metadata": {
            "tags": []
          }
        },
        {
          "output_type": "stream",
          "text": [
            "/usr/local/lib/python3.6/dist-packages/seaborn/_decorators.py:43: FutureWarning: Pass the following variables as keyword args: x, y. From version 0.12, the only valid positional argument will be `data`, and passing other arguments without an explicit keyword will result in an error or misinterpretation.\n",
            "  FutureWarning\n"
          ],
          "name": "stderr"
        },
        {
          "output_type": "display_data",
          "data": {
            "image/png": "[encoded data removed]",
            "text/plain": [
              "<Figure size 1080x432 with 1 Axes>"
            ]
          },
          "metadata": {
            "tags": []
          }
        },
        {
          "output_type": "stream",
          "text": [
            "/usr/local/lib/python3.6/dist-packages/seaborn/_decorators.py:43: FutureWarning: Pass the following variables as keyword args: x, y. From version 0.12, the only valid positional argument will be `data`, and passing other arguments without an explicit keyword will result in an error or misinterpretation.\n",
            "  FutureWarning\n"
          ],
          "name": "stderr"
        },
        {
          "output_type": "display_data",
          "data": {
            "image/png": "[encoded data removed]",
            "text/plain": [
              "<Figure size 1080x432 with 1 Axes>"
            ]
          },
          "metadata": {
            "tags": []
          }
        },
        {
          "output_type": "stream",
          "text": [
            "/usr/local/lib/python3.6/dist-packages/seaborn/_decorators.py:43: FutureWarning: Pass the following variables as keyword args: x, y. From version 0.12, the only valid positional argument will be `data`, and passing other arguments without an explicit keyword will result in an error or misinterpretation.\n",
            "  FutureWarning\n"
          ],
          "name": "stderr"
        },
        {
          "output_type": "display_data",
          "data": {
            "image/png": "[encoded data removed]",
            "text/plain": [
              "<Figure size 1080x432 with 1 Axes>"
            ]
          },
          "metadata": {
            "tags": []
          }
        },
        {
          "output_type": "stream",
          "text": [
            "/usr/local/lib/python3.6/dist-packages/seaborn/_decorators.py:43: FutureWarning: Pass the following variables as keyword args: x, y. From version 0.12, the only valid positional argument will be `data`, and passing other arguments without an explicit keyword will result in an error or misinterpretation.\n",
            "  FutureWarning\n"
          ],
          "name": "stderr"
        },
        {
          "output_type": "display_data",
          "data": {
            "image/png": "[encoded data removed]",
            "text/plain": [
              "<Figure size 1080x432 with 1 Axes>"
            ]
          },
          "metadata": {
            "tags": []
          }
        },
        {
          "output_type": "stream",
          "text": [
            "/usr/local/lib/python3.6/dist-packages/seaborn/_decorators.py:43: FutureWarning: Pass the following variables as keyword args: x, y. From version 0.12, the only valid positional argument will be `data`, and passing other arguments without an explicit keyword will result in an error or misinterpretation.\n",
            "  FutureWarning\n"
          ],
          "name": "stderr"
        },
        {
          "output_type": "display_data",
          "data": {
            "image/png": "[encoded data removed]",
            "text/plain": [
              "<Figure size 1080x432 with 1 Axes>"
            ]
          },
          "metadata": {
            "tags": []
          }
        },
        {
          "output_type": "stream",
          "text": [
            "/usr/local/lib/python3.6/dist-packages/seaborn/_decorators.py:43: FutureWarning: Pass the following variables as keyword args: x, y. From version 0.12, the only valid positional argument will be `data`, and passing other arguments without an explicit keyword will result in an error or misinterpretation.\n",
            "  FutureWarning\n"
          ],
          "name": "stderr"
        },
        {
          "output_type": "display_data",
          "data": {
            "image/png": "[encoded data removed]",
            "text/plain": [
              "<Figure size 1080x432 with 1 Axes>"
            ]
          },
          "metadata": {
            "tags": []
          }
        },
        {
          "output_type": "stream",
          "text": [
            "/usr/local/lib/python3.6/dist-packages/seaborn/_decorators.py:43: FutureWarning: Pass the following variables as keyword args: x, y. From version 0.12, the only valid positional argument will be `data`, and passing other arguments without an explicit keyword will result in an error or misinterpretation.\n",
            "  FutureWarning\n"
          ],
          "name": "stderr"
        },
        {
          "output_type": "display_data",
          "data": {
            "image/png": "[encoded data removed]",
            "text/plain": [
              "<Figure size 1080x432 with 1 Axes>"
            ]
          },
          "metadata": {
            "tags": []
          }
        },
        {
          "output_type": "stream",
          "text": [
            "/usr/local/lib/python3.6/dist-packages/seaborn/_decorators.py:43: FutureWarning: Pass the following variables as keyword args: x, y. From version 0.12, the only valid positional argument will be `data`, and passing other arguments without an explicit keyword will result in an error or misinterpretation.\n",
            "  FutureWarning\n"
          ],
          "name": "stderr"
        },
        {
          "output_type": "display_data",
          "data": {
            "image/png": "[encoded data removed]",
            "text/plain": [
              "<Figure size 1080x432 with 1 Axes>"
            ]
          },
          "metadata": {
            "tags": []
          }
        }
      ]
    },
    {
      "cell_type": "code",
      "metadata": {
        "id": "SIh4xCR-1Yc6",
        "colab": {
          "base_uri": "https://localhost:8080/",
          "height": 453
        },
        "outputId": "9ff4fc54-a54a-4860-b7f9-ac5742d4bc80"
      },
      "source": [
        "#Further investigation on gender\n",
        "sns.catplot('class', hue='Gender', data=data, kind='count')"
      ],
      "execution_count": null,
      "outputs": [
        {
          "output_type": "stream",
          "text": [
            "/usr/local/lib/python3.6/dist-packages/seaborn/_decorators.py:43: FutureWarning: Pass the following variable as a keyword arg: x. From version 0.12, the only valid positional argument will be `data`, and passing other arguments without an explicit keyword will result in an error or misinterpretation.\n",
            "  FutureWarning\n"
          ],
          "name": "stderr"
        },
        {
          "output_type": "execute_result",
          "data": {
            "text/plain": [
              "<seaborn.axisgrid.FacetGrid at 0x7f210d0d9b38>"
            ]
          },
          "metadata": {
            "tags": []
          },
          "execution_count": 17
        },
        {
          "output_type": "display_data",
          "data": {
            "image/png": "[encoded data removed]",
            "text/plain": [
              "<Figure size 439.725x360 with 1 Axes>"
            ]
          },
          "metadata": {
            "tags": []
          }
        }
      ]
    },
    {
      "cell_type": "markdown",
      "metadata": {
        "id": "-JR14bv6G_nb"
      },
      "source": [
        "With 1 representing Positive and 0 repesenting Negative, the above graphs can be further explained below:\n",
        "<ol>\n",
        "  <li> <strong>Obesity</strong> :Obesity does not clearly indicate that the patient is at the risk of having diabetes. It is not having enough evidence to dismiss it or accept it as a factor that can lead to diabetes.\n",
        "  </li>\n",
        "  <li><strong>Alopecia </strong>: Having a conditon called alopecia has slighty shown that a patient is not at the risk of having diabetes. It is more aligned with having no big thing to do with diabetes. \n",
        "  </li>\n",
        "  <li><strong>Muscle Stiffness</strong> : Musce stiffness might be able to tell if a patient is at the risk of having diabetes. More patient that were diagnosed with having diabetes showed symptoms of muscle stiffness in their bodies.\n",
        "  </li>\n",
        "  <li><strong>Partial Paralysis</strong> : This is a clear evidence that a patient suffering from this condition is at high risk of having diabetes. More than 2/3 of the patients diagnosed with this condition eventually has diabetes.  \n",
        "  </li>\n",
        "  <li><strong>Delayed Healing</strong> : A delayed healing is not having a clear indication to come to the conclusion that a patient might be at the risk of having diabetes. It however does not dismiss that diabetes is present in the body of the patient. \n",
        "  </li>\n",
        "  <li><strong>Irritability</strong> : Irritability is a good indicator of the presence of diabetes in a patients body. Though, more conditons would have to be tested for in order to ascertain completely if the patient is at the verge of having diabetes.\n",
        "  </li>\n",
        "  <li><strong>Itching </strong> : Both patientd with or eithout itching showed possibility of having diabetes or not havng diabetes. This concludes that itching won't be a best fit condition to conclude that a patient may have diabetes or not. Other conditions would have to be taken into consideration\n",
        "  </li>\n",
        "  <li><strong>Visual Blurring </strong> : This is a good indicator as to whether a patient might be at the risk of having it. More patient with blurry sight have proven to be diabetic than those without blurry eye sight condition.\n",
        "  </li>\n",
        "  <li><strong>Genital Thrush</strong> : This is also a good indicator and with this condition, we can tick the boxes of underying health conditions that most likely would lead to diabetes in a patient.\n",
        "  </li>\n",
        "  <li><strong>Polyphagia</strong> : As seen from the graph, it is a good indicator that it highlights the presence of diabetes in a patient. \n",
        "  </li>\n",
        "  <li><strong>Weakness </strong> : Frequent weakness in the body system isn't a good sign as more diabetic patient has shown to suffer from such underlying health condition. \n",
        "  </li>\n",
        "  <li><strong>Obesity:</strong> Obesity doesn't clearly indicate the presence of diabetes in a patient\n",
        "  </li>\n",
        "  <li><strong>Sudden Weight Loss </strong> : Sudden weight loss is clearly a good sign that a patient might be at the risk of having diabetes\n",
        "  </li>\n",
        "  <li><strong>Polydipsia</strong> : Polydipsia is a condition whereby a patient has excessive or abnormal thirst. With the presence of this condition in a human body, it brings more clarity to the presence of diabetes in the bod\n",
        "  </li>\n",
        "  <li>\n",
        "  <strong> Ployuria </strong> : Polyuria is excessive or an abnormally large production or passage of urine. Increased production and passage of urine may also be termed diuresis. Polyuria often appears in conjunction with polydipsia, though it is possible to have one without the other, and the latter may be a cause or an effect\n",
        "  <p>The polyuria chart above further confirmed that a patient may be suffering from diabetes. It is a condition whereby a patient </p>\n",
        "  </li>\n",
        "  <li>\n",
        "  </li>\n",
        "  \n",
        "  \n",
        "  \n",
        "  "
      ]
    },
    {
      "cell_type": "markdown",
      "metadata": {
        "id": "2gJPJZR0H59Z"
      },
      "source": [
        "# Model Development"
      ]
    },
    {
      "cell_type": "markdown",
      "metadata": {
        "id": "RMskZnzn3toB"
      },
      "source": [
        "<p> The problem above as indicated is a binary classification and as such will require binary classification model. \n",
        "<ul>\n",
        "<li>I will be testing 3 top machine learning binary models on the dataset. \n",
        "</li>\n",
        "<li>I will be comparing the accuracies, true positives and false negatives. \n",
        "</li>\n",
        "</ul>\n",
        "In this kind of health related problem, the true positive and true negative accuracy is highly important and as such, is needed to be highly accurate. It will be disastorus to have someone who truly has diabetes being predicted to be false (False Negative) and such person is being deprived off treatment or have someone who do not have diabetes and is being diagnosed as positive and have such person placed on diabetes drugs. </p>"
      ]
    },
    {
      "cell_type": "markdown",
      "metadata": {
        "id": "-Mm__uX_8LDB"
      },
      "source": [
        "The following models will be estensively tested with different amount of feature engineering performed on the dataset for each models if need be.\n",
        "<ol>\n",
        "<li>Random Forest </li>\n",
        "<li>Logistic Regression </li>\n",
        "<li>Neural Network </li>\n",
        "</ol>"
      ]
    },
    {
      "cell_type": "markdown",
      "metadata": {
        "id": "6XhR4FXX-Pvb"
      },
      "source": [
        "# Random Forest Classification"
      ]
    },
    {
      "cell_type": "code",
      "metadata": {
        "id": "SvpAsDi1DflD"
      },
      "source": [
        "from sklearn.preprocessing import OneHotEncoder, LabelEncoder\n",
        "from sklearn.model_selection import train_test_split\n",
        "from sklearn.ensemble import RandomForestClassifier\n",
        "from sklearn.linear_model import LogisticRegression\n",
        "from sklearn.metrics import classification_report, roc_auc_score, roc_curve, auc"
      ],
      "execution_count": null,
      "outputs": []
    },
    {
      "cell_type": "code",
      "metadata": {
        "id": "AaD4nc9IGu0c"
      },
      "source": [
        "'''\n",
        "The class below performs operations of split train test, transformation \n",
        "using either Hotencoder or Labelencoder, conversion of data into numpy array and returns the X_train, y_train, X_test and y_test\n",
        "'''\n",
        "class ModDiabetes:\n",
        "  def __init__(self, data, transform, X_cols, y_col):\n",
        "    \"\"\"\n",
        "    data: Takes in the object of the dataframe used for analysis\n",
        "    transform:  Takes in input string of 'LabelEncoder' for label encoding transformation \n",
        "                or 'Hotencoder' for one hot encoding transformation\n",
        "    X_cols: This is a list containing predictor variables headers. Helps in grabbing \n",
        "            the desired predictors from the dataframe.\n",
        "    y_col:  Target variable column inputed as a string.\n",
        "\n",
        "    \"\"\"\n",
        "    X = data[X_cols]\n",
        "    y = data[y_col]\n",
        "    X = np.array(X)\n",
        "    y = np.array(y)\n",
        "    #One hot encoder transformation\n",
        "    if transform == 'HotEncode':\n",
        "      enc = OneHotEncoder(sparse=False)\n",
        "      X = enc.fit_transform(X)\n",
        "    #Label encoder transformation\n",
        "    elif transform == 'LabelEncoder':\n",
        "      X = data[X_cols].apply(LabelEncoder().fit_transform)\n",
        "      X = X.values\n",
        "    self.X = X\n",
        "    self.y = y\n",
        "\n",
        "  #Function to preview the X and y arrays.\n",
        "  def preLoad(self):\n",
        "    return self.X, self.y\n",
        "\n",
        "  #Function splits the array into X_train, y_train, X_test and y_test taking into consideration test size and random state\n",
        "  def splitter(self, size, r_s):\n",
        "    \"\"\"\n",
        "      r_s: Takes in an integer value specifying a random state value for the train test split\n",
        "      size: Takes in a float between 0.0 and 1.0 specifying the desired size of the test. \n",
        "    \"\"\"\n",
        "    X_train, X_test, y_train, y_test = train_test_split(self.X, self.y, random_state=r_s, test_size=size)\n",
        "    return X_train, X_test, y_train, y_test\n",
        "\n",
        "  def dataSet(self):\n",
        "    '''\n",
        "    Function returns an array consisting of X predictors and y target variable.\n",
        "    '''\n",
        "    return self.X, self.y"
      ],
      "execution_count": null,
      "outputs": []
    },
    {
      "cell_type": "markdown",
      "metadata": {
        "id": "hwJQG502cS_Q"
      },
      "source": [
        "##Using Hot Encoder for comparison of accuracy score, f1 score and precision score"
      ]
    },
    {
      "cell_type": "code",
      "metadata": {
        "id": "Y-Dp2T1bDxK9"
      },
      "source": [
        "Model = ModDiabetes(data, 'HotEncode', pred_col, 'Class')"
      ],
      "execution_count": null,
      "outputs": []
    },
    {
      "cell_type": "code",
      "metadata": {
        "id": "XGMKj83ED50i",
        "colab": {
          "base_uri": "https://localhost:8080/"
        },
        "outputId": "1c395ef5-a518-40be-c63b-01db41490fb4"
      },
      "source": [
        "Model.preLoad()"
      ],
      "execution_count": null,
      "outputs": [
        {
          "output_type": "execute_result",
          "data": {
            "text/plain": [
              "(array([[0., 1., 1., ..., 1., 0., 1.],\n",
              "        [0., 1., 1., ..., 1., 1., 0.],\n",
              "        [0., 1., 0., ..., 1., 1., 0.],\n",
              "        ...,\n",
              "        [1., 0., 0., ..., 0., 0., 1.],\n",
              "        [1., 0., 1., ..., 1., 1., 0.],\n",
              "        [0., 1., 1., ..., 0., 1., 0.]]),\n",
              " array([1, 1, 1, 1, 1, 1, 1, 1, 1, 1, 1, 1, 1, 1, 1, 1, 1, 1, 1, 1, 1, 1,\n",
              "        1, 1, 1, 1, 1, 1, 1, 1, 1, 1, 1, 1, 1, 1, 1, 1, 1, 1, 1, 1, 1, 1,\n",
              "        1, 1, 1, 1, 1, 1, 1, 1, 1, 1, 1, 1, 1, 1, 1, 1, 1, 1, 1, 1, 1, 1,\n",
              "        1, 1, 1, 1, 1, 1, 1, 1, 1, 1, 1, 1, 1, 1, 1, 1, 1, 1, 1, 1, 1, 1,\n",
              "        1, 1, 1, 1, 1, 1, 1, 1, 1, 1, 1, 1, 1, 1, 1, 1, 1, 1, 1, 1, 1, 1,\n",
              "        1, 1, 1, 1, 1, 1, 1, 1, 1, 1, 1, 1, 1, 1, 1, 1, 1, 1, 1, 1, 1, 1,\n",
              "        1, 1, 1, 1, 1, 1, 1, 1, 1, 1, 1, 1, 1, 1, 1, 1, 1, 1, 1, 1, 1, 1,\n",
              "        1, 1, 1, 1, 1, 1, 1, 1, 1, 1, 1, 1, 1, 1, 1, 1, 1, 1, 1, 1, 1, 1,\n",
              "        1, 1, 1, 1, 1, 1, 1, 1, 1, 1, 1, 1, 1, 1, 1, 1, 1, 1, 1, 1, 1, 1,\n",
              "        1, 1, 0, 0, 0, 0, 0, 0, 0, 0, 0, 0, 0, 0, 0, 0, 0, 0, 0, 0, 0, 0,\n",
              "        0, 0, 0, 0, 0, 0, 0, 0, 0, 0, 0, 0, 0, 0, 0, 0, 0, 0, 0, 0, 0, 0,\n",
              "        0, 0, 0, 0, 0, 0, 0, 1, 1, 1, 1, 1, 1, 1, 1, 1, 1, 1, 1, 1, 1, 1,\n",
              "        1, 1, 1, 1, 1, 1, 1, 1, 0, 0, 0, 0, 0, 0, 0, 0, 0, 0, 0, 0, 0, 0,\n",
              "        0, 0, 0, 0, 0, 0, 0, 0, 0, 1, 1, 1, 1, 1, 1, 1, 1, 1, 1, 0, 0, 0,\n",
              "        0, 0, 0, 0, 0, 0, 0, 0, 0, 0, 0, 0, 0, 0, 0, 0, 0, 0, 0, 0, 0, 0,\n",
              "        0, 0, 0, 0, 0, 0, 0, 1, 1, 1, 1, 1, 1, 1, 1, 1, 1, 0, 0, 0, 0, 0,\n",
              "        0, 0, 0, 0, 0, 0, 1, 1, 1, 1, 1, 1, 1, 1, 1, 1, 1, 0, 0, 0, 0, 0,\n",
              "        0, 0, 0, 0, 1, 1, 1, 1, 1, 1, 1, 1, 0, 0, 0, 0, 0, 0, 0, 0, 0, 0,\n",
              "        0, 0, 0, 0, 0, 0, 0, 0, 0, 0, 0, 0, 0, 0, 0, 0, 0, 0, 1, 1, 1, 1,\n",
              "        1, 1, 1, 1, 1, 1, 1, 1, 1, 1, 1, 1, 1, 1, 1, 1, 1, 1, 1, 1, 1, 1,\n",
              "        1, 1, 1, 1, 1, 1, 1, 1, 1, 1, 1, 1, 1, 1, 1, 1, 1, 1, 1, 1, 0, 0,\n",
              "        0, 0, 0, 0, 0, 0, 0, 0, 0, 0, 0, 0, 0, 0, 0, 0, 0, 0, 0, 0, 0, 1,\n",
              "        1, 1, 1, 1, 0, 0, 0, 0, 0, 0, 0, 0, 0, 0, 1, 0, 1, 0, 0, 0, 0, 0,\n",
              "        0, 0, 0, 0, 0, 0, 0, 1, 1, 1, 1, 1, 0, 0]))"
            ]
          },
          "metadata": {
            "tags": []
          },
          "execution_count": 21
        }
      ]
    },
    {
      "cell_type": "code",
      "metadata": {
        "id": "eg9wmDKkEdbX"
      },
      "source": [
        "trainX, testX, trainy, testy = Model.splitter(0.3, 0)"
      ],
      "execution_count": null,
      "outputs": []
    },
    {
      "cell_type": "code",
      "metadata": {
        "id": "De2RAsnXe9U4",
        "colab": {
          "base_uri": "https://localhost:8080/"
        },
        "outputId": "ddb594ae-293c-407c-9725-0c15f5096983"
      },
      "source": [
        "mod = RandomForestClassifier(random_state=0)\n",
        "mod_ = mod.fit(trainX, trainy)\n",
        "mod_.predict(testX)\n"
      ],
      "execution_count": null,
      "outputs": [
        {
          "output_type": "execute_result",
          "data": {
            "text/plain": [
              "array([1, 1, 1, 0, 0, 1, 1, 1, 1, 1, 1, 0, 1, 1, 1, 1, 0, 1, 1, 1, 1, 1,\n",
              "       1, 0, 0, 0, 1, 1, 0, 1, 1, 0, 0, 1, 1, 1, 1, 0, 1, 1, 1, 0, 1, 0,\n",
              "       0, 1, 1, 0, 1, 0, 1, 0, 1, 0, 1, 0, 1, 1, 1, 1, 0, 0, 1, 0, 1, 0,\n",
              "       1, 0, 1, 1, 0, 0, 1, 1, 0, 1, 0, 1, 1, 0, 1, 1, 0, 0, 1, 0, 1, 1,\n",
              "       0, 0, 0, 0, 0, 0, 0, 1, 1, 1, 1, 0, 0, 1, 1, 1, 0, 0, 1, 0, 1, 0,\n",
              "       1, 0, 1, 0, 1, 1, 0, 1, 1, 0, 0, 1, 1, 0, 1, 1, 0, 0, 0, 0, 1, 0,\n",
              "       0, 1, 1, 1, 1, 1, 1, 1, 1, 1, 0, 1, 0, 0, 1, 1, 1, 0, 1, 1, 1, 1,\n",
              "       1, 1])"
            ]
          },
          "metadata": {
            "tags": []
          },
          "execution_count": 23
        }
      ]
    },
    {
      "cell_type": "code",
      "metadata": {
        "id": "eQyZmRgpSwJq",
        "colab": {
          "base_uri": "https://localhost:8080/"
        },
        "outputId": "03e41eda-ff6f-4cef-9c22-29c7ff014457"
      },
      "source": [
        "print(classification_report(testy, mod.predict(testX)))"
      ],
      "execution_count": null,
      "outputs": [
        {
          "output_type": "stream",
          "text": [
            "              precision    recall  f1-score   support\n",
            "\n",
            "           0       0.97      0.95      0.96        62\n",
            "           1       0.97      0.98      0.97        94\n",
            "\n",
            "    accuracy                           0.97       156\n",
            "   macro avg       0.97      0.97      0.97       156\n",
            "weighted avg       0.97      0.97      0.97       156\n",
            "\n"
          ],
          "name": "stdout"
        }
      ]
    },
    {
      "cell_type": "markdown",
      "metadata": {
        "id": "ASn3xiITNcbZ"
      },
      "source": [
        "##Finding ROC AUC Score"
      ]
    },
    {
      "cell_type": "code",
      "metadata": {
        "id": "Y8Ojgzx-NawT",
        "colab": {
          "base_uri": "https://localhost:8080/"
        },
        "outputId": "29ae62af-49d7-40b8-bc50-deb5fd2b1681"
      },
      "source": [
        "print(roc_auc_score(testy, mod.predict(testX)))"
      ],
      "execution_count": null,
      "outputs": [
        {
          "output_type": "stream",
          "text": [
            "0.9651681537405628\n"
          ],
          "name": "stdout"
        }
      ]
    },
    {
      "cell_type": "code",
      "metadata": {
        "id": "-bLs5nWoN9d5"
      },
      "source": [
        "fpr, tpr, thresholds = roc_curve(testy, mod.predict(testX))"
      ],
      "execution_count": null,
      "outputs": []
    },
    {
      "cell_type": "markdown",
      "metadata": {
        "id": "YuqdyHFMO0ud"
      },
      "source": [
        "##Receiver of Curve Graph"
      ]
    },
    {
      "cell_type": "code",
      "metadata": {
        "id": "YHy7d-adOzzN",
        "colab": {
          "base_uri": "https://localhost:8080/",
          "height": 301
        },
        "outputId": "bb0aae73-ba07-49c6-814c-825fea569713"
      },
      "source": [
        "plt.figure()\n",
        "lw = 2\n",
        "plt.plot(fpr, tpr, color='darkorange',\n",
        "         lw=lw, label='ROC curve (area = %0.2f)' % roc_auc_score(testy, mod.predict(testX)))\n",
        "plt.plot([0, 1], [0, 1], color='navy', lw=lw, linestyle='--')\n",
        "plt.xlim([0.0, 1.0])\n",
        "plt.ylim([0.0, 1.05])\n",
        "plt.xlabel('False Positive Rate')\n",
        "plt.ylabel('True Positive Rate')\n",
        "plt.title('Receiver operating characteristic example')\n",
        "plt.legend(loc=\"lower right\")\n",
        "plt.show()"
      ],
      "execution_count": null,
      "outputs": [
        {
          "output_type": "display_data",
          "data": {
            "image/png": "[encoded data removed]",
            "text/plain": [
              "<Figure size 432x288 with 1 Axes>"
            ]
          },
          "metadata": {
            "tags": []
          }
        }
      ]
    },
    {
      "cell_type": "markdown",
      "metadata": {
        "id": "eWYlCTjWNbrU"
      },
      "source": [
        ""
      ]
    },
    {
      "cell_type": "markdown",
      "metadata": {
        "id": "jTDDIFJIcnql"
      },
      "source": [
        "##Using Label encoder for comparison of f1 score, precision and accuracy"
      ]
    },
    {
      "cell_type": "code",
      "metadata": {
        "id": "ICJO4IZqb00c"
      },
      "source": [
        "Model_ = ModDiabetes(data, 'LabelEncoder', pred_col, 'Class')"
      ],
      "execution_count": null,
      "outputs": []
    },
    {
      "cell_type": "markdown",
      "metadata": {
        "id": "83X-1c0BdGWM"
      },
      "source": [
        "##Splitting the dataset"
      ]
    },
    {
      "cell_type": "code",
      "metadata": {
        "id": "jdAhbWY5c3SE"
      },
      "source": [
        "trainX_, testX_, trainy_, testy_ = Model_.splitter(0.3, 0)"
      ],
      "execution_count": null,
      "outputs": []
    },
    {
      "cell_type": "markdown",
      "metadata": {
        "id": "6Ag7lZgfdLAJ"
      },
      "source": [
        "##Model building"
      ]
    },
    {
      "cell_type": "code",
      "metadata": {
        "id": "01bQcvOadAUt",
        "colab": {
          "base_uri": "https://localhost:8080/"
        },
        "outputId": "523c4f41-20f5-4435-bb3d-3992673e38e1"
      },
      "source": [
        "mod_ = RandomForestClassifier(random_state=0)\n",
        "mod__ = mod_.fit(trainX_, trainy_)\n",
        "mod__.predict(testX_)\n"
      ],
      "execution_count": null,
      "outputs": [
        {
          "output_type": "execute_result",
          "data": {
            "text/plain": [
              "array([1, 1, 1, 0, 0, 1, 1, 1, 1, 1, 1, 0, 1, 1, 1, 1, 0, 1, 1, 1, 1, 1,\n",
              "       1, 0, 0, 0, 1, 1, 0, 1, 1, 0, 0, 1, 1, 1, 1, 0, 1, 1, 1, 0, 1, 0,\n",
              "       0, 1, 1, 0, 1, 0, 1, 0, 1, 0, 1, 1, 1, 1, 1, 1, 0, 0, 1, 0, 1, 0,\n",
              "       1, 0, 1, 1, 0, 0, 1, 1, 0, 1, 0, 1, 1, 0, 1, 1, 0, 0, 1, 0, 1, 1,\n",
              "       0, 0, 0, 0, 0, 0, 0, 1, 1, 1, 1, 0, 0, 1, 1, 1, 0, 0, 1, 0, 1, 0,\n",
              "       1, 0, 1, 0, 1, 1, 0, 1, 1, 0, 0, 1, 1, 0, 1, 1, 0, 0, 0, 0, 1, 0,\n",
              "       0, 1, 1, 1, 1, 1, 1, 1, 1, 1, 0, 1, 0, 0, 1, 1, 1, 0, 1, 1, 1, 1,\n",
              "       1, 1])"
            ]
          },
          "metadata": {
            "tags": []
          },
          "execution_count": 30
        }
      ]
    },
    {
      "cell_type": "markdown",
      "metadata": {
        "id": "Cw1T-aMEdfn9"
      },
      "source": [
        "##Classification report"
      ]
    },
    {
      "cell_type": "code",
      "metadata": {
        "id": "Tq5KSvwxdY4T",
        "colab": {
          "base_uri": "https://localhost:8080/"
        },
        "outputId": "551b2984-8325-44a3-b532-78ad636216db"
      },
      "source": [
        "print(classification_report(testy_, mod_.predict(testX_)))"
      ],
      "execution_count": null,
      "outputs": [
        {
          "output_type": "stream",
          "text": [
            "              precision    recall  f1-score   support\n",
            "\n",
            "           0       0.98      0.95      0.97        62\n",
            "           1       0.97      0.99      0.98        94\n",
            "\n",
            "    accuracy                           0.97       156\n",
            "   macro avg       0.98      0.97      0.97       156\n",
            "weighted avg       0.97      0.97      0.97       156\n",
            "\n"
          ],
          "name": "stdout"
        }
      ]
    },
    {
      "cell_type": "code",
      "metadata": {
        "id": "aNRUIDqpdlfR",
        "colab": {
          "base_uri": "https://localhost:8080/"
        },
        "outputId": "d462d2ca-17b3-4457-d22a-8821bc6f0c63"
      },
      "source": [
        "print(roc_auc_score(testy_, mod_.predict(testX_)))"
      ],
      "execution_count": null,
      "outputs": [
        {
          "output_type": "stream",
          "text": [
            "0.9704873026767331\n"
          ],
          "name": "stdout"
        }
      ]
    },
    {
      "cell_type": "code",
      "metadata": {
        "id": "pVU7XFovfDH0"
      },
      "source": [
        "fpr_, tpr_, thresholds_ = roc_curve(testy_, mod_.predict(testX_))"
      ],
      "execution_count": null,
      "outputs": []
    },
    {
      "cell_type": "code",
      "metadata": {
        "id": "Bsp9VfJRKcvu",
        "colab": {
          "base_uri": "https://localhost:8080/"
        },
        "outputId": "12609456-0ca3-4aea-aef1-2199bf8d5488"
      },
      "source": [
        "print(auc(fpr_, tpr_))"
      ],
      "execution_count": null,
      "outputs": [
        {
          "output_type": "stream",
          "text": [
            "0.9704873026767331\n"
          ],
          "name": "stdout"
        }
      ]
    },
    {
      "cell_type": "code",
      "metadata": {
        "id": "NO3OwnwEQMhY",
        "colab": {
          "base_uri": "https://localhost:8080/",
          "height": 301
        },
        "outputId": "42bcb8fd-5ae2-4ab3-fea5-f69291c5df8c"
      },
      "source": [
        "plt.figure()\n",
        "lw = 2\n",
        "plt.plot(fpr_, tpr_, color='darkorange',\n",
        "         lw=lw, label='ROC curve (area = %0.2f)' % roc_auc_score(testy_, mod_.predict(testX_)))\n",
        "plt.plot([0, 1], [0, 1], color='navy', lw=lw, linestyle='--')\n",
        "plt.xlim([0.0, 1.0])\n",
        "plt.ylim([0.0, 1.05])\n",
        "plt.xlabel('False Positive Rate')\n",
        "plt.ylabel('True Positive Rate')\n",
        "plt.title('Receiver operating characteristic example')\n",
        "plt.legend(loc=\"lower right\")\n",
        "plt.show()"
      ],
      "execution_count": null,
      "outputs": [
        {
          "output_type": "display_data",
          "data": {
            "image/png": "[encoded data removed]",
            "text/plain": [
              "<Figure size 432x288 with 1 Axes>"
            ]
          },
          "metadata": {
            "tags": []
          }
        }
      ]
    },
    {
      "cell_type": "markdown",
      "metadata": {
        "id": "AShoJWf1lINU"
      },
      "source": [
        "# Logistics Regression"
      ]
    },
    {
      "cell_type": "markdown",
      "metadata": {
        "id": "g3CvDRsdo6jX"
      },
      "source": [
        "## Generating class model for logistics classification. "
      ]
    },
    {
      "cell_type": "markdown",
      "metadata": {
        "id": "H2RRuxWXpA0J"
      },
      "source": [
        "Model returns data splitted into X arrays and y arrays. \n",
        "Functions that will split into train test will be called and values of Xtest, ytest, xtrain and ytrain will be stored as a variable."
      ]
    },
    {
      "cell_type": "code",
      "metadata": {
        "id": "sqnjh6NDlLkM"
      },
      "source": [
        "LogModel = ModDiabetes(data, 'LabelEncoder', pred_col, 'Class' )"
      ],
      "execution_count": null,
      "outputs": []
    },
    {
      "cell_type": "code",
      "metadata": {
        "id": "IKwVGLqelNTs"
      },
      "source": [
        "#Splitting data into train and test set using 20% as test size\n",
        "Xtrain, Xtest, ytrain, ytest = LogModel.splitter(0.2, 0)"
      ],
      "execution_count": null,
      "outputs": []
    },
    {
      "cell_type": "markdown",
      "metadata": {
        "id": "BzfWsltypszq"
      },
      "source": [
        "Xtrain"
      ]
    },
    {
      "cell_type": "code",
      "metadata": {
        "id": "5jWN17P7pvER",
        "colab": {
          "base_uri": "https://localhost:8080/"
        },
        "outputId": "9da0f9d5-3d8f-4176-e72a-b30cd208316b"
      },
      "source": [
        "Log = LogisticRegression()\n",
        "Log.fit(Xtrain, ytrain)\n",
        "Log.predict(Xtest)"
      ],
      "execution_count": null,
      "outputs": [
        {
          "output_type": "execute_result",
          "data": {
            "text/plain": [
              "array([1, 1, 1, 0, 0, 1, 1, 1, 0, 1, 1, 0, 1, 1, 1, 1, 0, 1, 1, 1, 1, 1,\n",
              "       1, 0, 0, 0, 1, 1, 1, 1, 1, 0, 1, 1, 1, 1, 1, 0, 1, 1, 1, 0, 1, 0,\n",
              "       0, 1, 1, 0, 1, 0, 1, 0, 1, 0, 1, 0, 1, 1, 1, 1, 0, 0, 1, 0, 1, 0,\n",
              "       1, 0, 1, 1, 0, 0, 1, 1, 0, 1, 0, 1, 1, 0, 1, 1, 0, 0, 1, 1, 1, 1,\n",
              "       0, 0, 0, 0, 0, 0, 0, 1, 1, 1, 1, 0, 0, 1, 1, 1])"
            ]
          },
          "metadata": {
            "tags": []
          },
          "execution_count": 38
        }
      ]
    },
    {
      "cell_type": "markdown",
      "metadata": {
        "id": "cuLenfJ4qEl2"
      },
      "source": [
        "## Classification Report of Logistics Regression Model"
      ]
    },
    {
      "cell_type": "code",
      "metadata": {
        "id": "fHiOg0uCqND7",
        "colab": {
          "base_uri": "https://localhost:8080/"
        },
        "outputId": "39e31a47-575a-48f5-e7fd-6bd6118a5abc"
      },
      "source": [
        "print(classification_report(ytest, Log.predict(Xtest)))"
      ],
      "execution_count": null,
      "outputs": [
        {
          "output_type": "stream",
          "text": [
            "              precision    recall  f1-score   support\n",
            "\n",
            "           0       0.95      0.93      0.94        40\n",
            "           1       0.95      0.97      0.96        64\n",
            "\n",
            "    accuracy                           0.95       104\n",
            "   macro avg       0.95      0.95      0.95       104\n",
            "weighted avg       0.95      0.95      0.95       104\n",
            "\n"
          ],
          "name": "stdout"
        }
      ]
    },
    {
      "cell_type": "markdown",
      "metadata": {
        "id": "GusBLQtwrW-u"
      },
      "source": [
        "## Receiver of Curve Graph and Score"
      ]
    },
    {
      "cell_type": "code",
      "metadata": {
        "id": "xJtwHq1YrVPW",
        "colab": {
          "base_uri": "https://localhost:8080/"
        },
        "outputId": "ed8d2f44-72a8-45e8-e04e-3e403c9a1636"
      },
      "source": [
        "print(roc_auc_score(ytest, Log.predict(Xtest)))"
      ],
      "execution_count": null,
      "outputs": [
        {
          "output_type": "stream",
          "text": [
            "0.9468750000000001\n"
          ],
          "name": "stdout"
        }
      ]
    },
    {
      "cell_type": "code",
      "metadata": {
        "id": "ZtSu0uyjsGOz"
      },
      "source": [
        "#Lfpr, Ltpr and Lthresholds representing variable for logistics model class\n",
        "Lfpr, Ltpr, Lthresholds = roc_curve(testy_, mod_.predict(testX_))"
      ],
      "execution_count": null,
      "outputs": []
    },
    {
      "cell_type": "code",
      "metadata": {
        "id": "eH0jY9Nbr7yF",
        "colab": {
          "base_uri": "https://localhost:8080/",
          "height": 301
        },
        "outputId": "94d75d12-c484-4869-bb7a-1699ba47acc6"
      },
      "source": [
        "plt.figure()\n",
        "lw = 2\n",
        "plt.plot(Lfpr, Ltpr, color='darkorange',\n",
        "         lw=lw, label='ROC curve (area = %0.2f)' % roc_auc_score(ytest, Log.predict(Xtest)))\n",
        "plt.plot([0, 1], [0, 1], color='navy', lw=lw, linestyle='--')\n",
        "plt.xlim([0.0, 1.0])\n",
        "plt.ylim([0.0, 1.05])\n",
        "plt.xlabel('False Positive Rate')\n",
        "plt.ylabel('True Positive Rate')\n",
        "plt.title('Receiver operating characteristic example')\n",
        "plt.legend(loc=\"lower right\")\n",
        "plt.show()"
      ],
      "execution_count": null,
      "outputs": [
        {
          "output_type": "display_data",
          "data": {
            "image/png": "[encoded data removed]",
            "text/plain": [
              "<Figure size 432x288 with 1 Axes>"
            ]
          },
          "metadata": {
            "tags": []
          }
        }
      ]
    },
    {
      "cell_type": "markdown",
      "metadata": {
        "id": "AcIbpeTElN2U"
      },
      "source": [
        "# Neural Network (Keras)"
      ]
    },
    {
      "cell_type": "code",
      "metadata": {
        "id": "UghToJvdlQbL"
      },
      "source": [
        "from tensorflow import keras\n",
        "from keras.models import Sequential\n",
        "from keras.layers import Dense\n",
        "from keras import Input"
      ],
      "execution_count": null,
      "outputs": []
    },
    {
      "cell_type": "markdown",
      "metadata": {
        "id": "LYcWYYHr7T7b"
      },
      "source": [
        "## Parsing Data into Class function"
      ]
    },
    {
      "cell_type": "markdown",
      "metadata": {
        "id": "D1n16vVi7b2f"
      },
      "source": [
        "Feature engineering is performed on dataset, predictor variables are specified and the target variable is equally specified"
      ]
    },
    {
      "cell_type": "code",
      "metadata": {
        "id": "VaKUN4O_u2vS"
      },
      "source": [
        "NN = ModDiabetes(data, 'HotEncode', pred_col, 'Class')"
      ],
      "execution_count": null,
      "outputs": []
    },
    {
      "cell_type": "markdown",
      "metadata": {
        "id": "QCpdu5io7mMn"
      },
      "source": [
        "Grabbing the X and y array dataset."
      ]
    },
    {
      "cell_type": "code",
      "metadata": {
        "id": "9-2KovSCvKRC"
      },
      "source": [
        "X, y = NN.dataSet()"
      ],
      "execution_count": null,
      "outputs": []
    },
    {
      "cell_type": "markdown",
      "metadata": {
        "id": "orESEfLb7req"
      },
      "source": [
        "## Model development"
      ]
    },
    {
      "cell_type": "code",
      "metadata": {
        "id": "wZf_OXUssljY"
      },
      "source": [
        "model = Sequential()"
      ],
      "execution_count": null,
      "outputs": []
    },
    {
      "cell_type": "code",
      "metadata": {
        "id": "Mn62g2Vzv6eN",
        "colab": {
          "base_uri": "https://localhost:8080/"
        },
        "outputId": "921679e8-a73a-4bce-d78c-a81394e96bbb"
      },
      "source": [
        "X.shape"
      ],
      "execution_count": null,
      "outputs": [
        {
          "output_type": "execute_result",
          "data": {
            "text/plain": [
              "(520, 30)"
            ]
          },
          "metadata": {
            "tags": []
          },
          "execution_count": 47
        }
      ]
    },
    {
      "cell_type": "code",
      "metadata": {
        "id": "9qCSNP91uFP0"
      },
      "source": [
        "#Create model, add dense layers each by specifying activation function\n",
        "\n",
        "model.add(Input(shape=(30,)))\n",
        "model.add(Dense(32, activation='relu'))\n",
        "model.add(Dense(38, activation='relu'))\n",
        "model.add(Dense(30, activation='relu'))\n",
        "model.add(Dense(35, activation='relu'))\n",
        "model.add(Dense(1, activation='sigmoid'))\n",
        "\n",
        "#Compile the model using adam gradient descent(optimized)\n",
        "\n",
        "model.compile(loss='binary_crossentropy', optimizer='adam', metrics=['accuracy'])"
      ],
      "execution_count": null,
      "outputs": []
    },
    {
      "cell_type": "code",
      "metadata": {
        "id": "SlMl9r2Ruotz",
        "colab": {
          "base_uri": "https://localhost:8080/"
        },
        "outputId": "b4a2dea7-62c4-4c76-e6e0-3ed7fddbe99d"
      },
      "source": [
        "model.fit(X, y, epochs=100, batch_size=1)\n",
        "\n",
        "scores = model.evaluate(X, y)\n",
        "print(\"\\n%s: %.2f%%\" %(model.metrics_names[1], scores[1]*100))"
      ],
      "execution_count": null,
      "outputs": [
        {
          "output_type": "stream",
          "text": [
            "Epoch 1/100\n",
            "520/520 [==============================] - 1s 1ms/step - loss: 0.3464 - accuracy: 0.8423\n",
            "Epoch 2/100\n",
            "520/520 [==============================] - 1s 1ms/step - loss: 0.1884 - accuracy: 0.9231\n",
            "Epoch 3/100\n",
            "520/520 [==============================] - 1s 1ms/step - loss: 0.1259 - accuracy: 0.9500\n",
            "Epoch 4/100\n",
            "520/520 [==============================] - 1s 1ms/step - loss: 0.1030 - accuracy: 0.9635\n",
            "Epoch 5/100\n",
            "520/520 [==============================] - 1s 1ms/step - loss: 0.0760 - accuracy: 0.9750\n",
            "Epoch 6/100\n",
            "520/520 [==============================] - 1s 1ms/step - loss: 0.0687 - accuracy: 0.9731\n",
            "Epoch 7/100\n",
            "520/520 [==============================] - 1s 1ms/step - loss: 0.0426 - accuracy: 0.9865\n",
            "Epoch 8/100\n",
            "520/520 [==============================] - 1s 1ms/step - loss: 0.0413 - accuracy: 0.9827\n",
            "Epoch 9/100\n",
            "520/520 [==============================] - 1s 1ms/step - loss: 0.0318 - accuracy: 0.9865\n",
            "Epoch 10/100\n",
            "520/520 [==============================] - 1s 1ms/step - loss: 0.0387 - accuracy: 0.9904\n",
            "Epoch 11/100\n",
            "520/520 [==============================] - 1s 1ms/step - loss: 0.0347 - accuracy: 0.9885\n",
            "Epoch 12/100\n",
            "520/520 [==============================] - 1s 1ms/step - loss: 0.0451 - accuracy: 0.9865\n",
            "Epoch 13/100\n",
            "520/520 [==============================] - 1s 1ms/step - loss: 0.0474 - accuracy: 0.9827\n",
            "Epoch 14/100\n",
            "520/520 [==============================] - 1s 1ms/step - loss: 0.0219 - accuracy: 0.9865\n",
            "Epoch 15/100\n",
            "520/520 [==============================] - 1s 1ms/step - loss: 0.0211 - accuracy: 0.9904\n",
            "Epoch 16/100\n",
            "520/520 [==============================] - 1s 1ms/step - loss: 0.0182 - accuracy: 0.9904\n",
            "Epoch 17/100\n",
            "520/520 [==============================] - 1s 2ms/step - loss: 0.0148 - accuracy: 0.9923\n",
            "Epoch 18/100\n",
            "520/520 [==============================] - 1s 1ms/step - loss: 0.0132 - accuracy: 0.9942\n",
            "Epoch 19/100\n",
            "520/520 [==============================] - 1s 1ms/step - loss: 0.0337 - accuracy: 0.9904\n",
            "Epoch 20/100\n",
            "520/520 [==============================] - 1s 1ms/step - loss: 0.0165 - accuracy: 0.9923\n",
            "Epoch 21/100\n",
            "520/520 [==============================] - 1s 1ms/step - loss: 0.0181 - accuracy: 0.9885\n",
            "Epoch 22/100\n",
            "520/520 [==============================] - 1s 1ms/step - loss: 0.0125 - accuracy: 0.9942\n",
            "Epoch 23/100\n",
            "520/520 [==============================] - 1s 1ms/step - loss: 0.0119 - accuracy: 0.9942\n",
            "Epoch 24/100\n",
            "520/520 [==============================] - 1s 1ms/step - loss: 0.0864 - accuracy: 0.9788\n",
            "Epoch 25/100\n",
            "520/520 [==============================] - 1s 1ms/step - loss: 0.0370 - accuracy: 0.9865\n",
            "Epoch 26/100\n",
            "520/520 [==============================] - 1s 1ms/step - loss: 0.0148 - accuracy: 0.9885\n",
            "Epoch 27/100\n",
            "520/520 [==============================] - 1s 1ms/step - loss: 0.0156 - accuracy: 0.9923\n",
            "Epoch 28/100\n",
            "520/520 [==============================] - 1s 2ms/step - loss: 0.0128 - accuracy: 0.9942\n",
            "Epoch 29/100\n",
            "520/520 [==============================] - 1s 1ms/step - loss: 0.0120 - accuracy: 0.9942\n",
            "Epoch 30/100\n",
            "520/520 [==============================] - 1s 2ms/step - loss: 0.0129 - accuracy: 0.9942\n",
            "Epoch 31/100\n",
            "520/520 [==============================] - 1s 1ms/step - loss: 0.0118 - accuracy: 0.9942\n",
            "Epoch 32/100\n",
            "520/520 [==============================] - 1s 1ms/step - loss: 0.0120 - accuracy: 0.9942\n",
            "Epoch 33/100\n",
            "520/520 [==============================] - 1s 1ms/step - loss: 0.0118 - accuracy: 0.9942\n",
            "Epoch 34/100\n",
            "520/520 [==============================] - 1s 1ms/step - loss: 0.0563 - accuracy: 0.9885\n",
            "Epoch 35/100\n",
            "520/520 [==============================] - 1s 1ms/step - loss: 0.0355 - accuracy: 0.9827\n",
            "Epoch 36/100\n",
            "520/520 [==============================] - 1s 1ms/step - loss: 0.0151 - accuracy: 0.9942\n",
            "Epoch 37/100\n",
            "520/520 [==============================] - 1s 1ms/step - loss: 0.0126 - accuracy: 0.9942\n",
            "Epoch 38/100\n",
            "520/520 [==============================] - 1s 1ms/step - loss: 0.0179 - accuracy: 0.9942\n",
            "Epoch 39/100\n",
            "520/520 [==============================] - 1s 1ms/step - loss: 0.0159 - accuracy: 0.9904\n",
            "Epoch 40/100\n",
            "520/520 [==============================] - 1s 1ms/step - loss: 0.0129 - accuracy: 0.9942\n",
            "Epoch 41/100\n",
            "520/520 [==============================] - 1s 1ms/step - loss: 0.0121 - accuracy: 0.9942\n",
            "Epoch 42/100\n",
            "520/520 [==============================] - 1s 1ms/step - loss: 0.0116 - accuracy: 0.9942\n",
            "Epoch 43/100\n",
            "520/520 [==============================] - 1s 1ms/step - loss: 0.0114 - accuracy: 0.9942\n",
            "Epoch 44/100\n",
            "520/520 [==============================] - 1s 1ms/step - loss: 0.0146 - accuracy: 0.9942\n",
            "Epoch 45/100\n",
            "520/520 [==============================] - 1s 1ms/step - loss: 0.0115 - accuracy: 0.9942\n",
            "Epoch 46/100\n",
            "520/520 [==============================] - 1s 1ms/step - loss: 0.0117 - accuracy: 0.9942\n",
            "Epoch 47/100\n",
            "520/520 [==============================] - 1s 1ms/step - loss: 0.0114 - accuracy: 0.9942\n",
            "Epoch 48/100\n",
            "520/520 [==============================] - 1s 1ms/step - loss: 0.0114 - accuracy: 0.9942\n",
            "Epoch 49/100\n",
            "520/520 [==============================] - 1s 1ms/step - loss: 0.0113 - accuracy: 0.9942\n",
            "Epoch 50/100\n",
            "520/520 [==============================] - 1s 1ms/step - loss: 0.0115 - accuracy: 0.9942\n",
            "Epoch 51/100\n",
            "520/520 [==============================] - 1s 1ms/step - loss: 0.0114 - accuracy: 0.9942\n",
            "Epoch 52/100\n",
            "520/520 [==============================] - 1s 1ms/step - loss: 0.0115 - accuracy: 0.9942\n",
            "Epoch 53/100\n",
            "520/520 [==============================] - 1s 1ms/step - loss: 0.0579 - accuracy: 0.9808\n",
            "Epoch 54/100\n",
            "520/520 [==============================] - 1s 1ms/step - loss: 0.0369 - accuracy: 0.9865\n",
            "Epoch 55/100\n",
            "520/520 [==============================] - 1s 1ms/step - loss: 0.0123 - accuracy: 0.9942\n",
            "Epoch 56/100\n",
            "520/520 [==============================] - 1s 1ms/step - loss: 0.0117 - accuracy: 0.9942\n",
            "Epoch 57/100\n",
            "520/520 [==============================] - 1s 1ms/step - loss: 0.0115 - accuracy: 0.9942\n",
            "Epoch 58/100\n",
            "520/520 [==============================] - 1s 1ms/step - loss: 0.0118 - accuracy: 0.9942\n",
            "Epoch 59/100\n",
            "520/520 [==============================] - 1s 1ms/step - loss: 0.0116 - accuracy: 0.9942\n",
            "Epoch 60/100\n",
            "520/520 [==============================] - 1s 1ms/step - loss: 0.0117 - accuracy: 0.9942\n",
            "Epoch 61/100\n",
            "520/520 [==============================] - 1s 1ms/step - loss: 0.0113 - accuracy: 0.9942\n",
            "Epoch 62/100\n",
            "520/520 [==============================] - 1s 1ms/step - loss: 0.0114 - accuracy: 0.9942\n",
            "Epoch 63/100\n",
            "520/520 [==============================] - 1s 1ms/step - loss: 0.0114 - accuracy: 0.9942\n",
            "Epoch 64/100\n",
            "520/520 [==============================] - 1s 1ms/step - loss: 0.0115 - accuracy: 0.9942\n",
            "Epoch 65/100\n",
            "520/520 [==============================] - 1s 1ms/step - loss: 0.0114 - accuracy: 0.9942\n",
            "Epoch 66/100\n",
            "520/520 [==============================] - 1s 1ms/step - loss: 0.0114 - accuracy: 0.9942\n",
            "Epoch 67/100\n",
            "520/520 [==============================] - 1s 1ms/step - loss: 0.0114 - accuracy: 0.9942\n",
            "Epoch 68/100\n",
            "520/520 [==============================] - 1s 1ms/step - loss: 0.0113 - accuracy: 0.9942\n",
            "Epoch 69/100\n",
            "520/520 [==============================] - 1s 1ms/step - loss: 0.0112 - accuracy: 0.9942\n",
            "Epoch 70/100\n",
            "520/520 [==============================] - 1s 1ms/step - loss: 0.0113 - accuracy: 0.9942\n",
            "Epoch 71/100\n",
            "520/520 [==============================] - 1s 1ms/step - loss: 0.0520 - accuracy: 0.9904\n",
            "Epoch 72/100\n",
            "520/520 [==============================] - 1s 1ms/step - loss: 0.0391 - accuracy: 0.9904\n",
            "Epoch 73/100\n",
            "520/520 [==============================] - 1s 1ms/step - loss: 0.0158 - accuracy: 0.9923\n",
            "Epoch 74/100\n",
            "520/520 [==============================] - 1s 1ms/step - loss: 0.0308 - accuracy: 0.9865\n",
            "Epoch 75/100\n",
            "520/520 [==============================] - 1s 1ms/step - loss: 0.0117 - accuracy: 0.9942\n",
            "Epoch 76/100\n",
            "520/520 [==============================] - 1s 1ms/step - loss: 0.0128 - accuracy: 0.9942\n",
            "Epoch 77/100\n",
            "520/520 [==============================] - 1s 1ms/step - loss: 0.0115 - accuracy: 0.9942\n",
            "Epoch 78/100\n",
            "520/520 [==============================] - 1s 1ms/step - loss: 0.0114 - accuracy: 0.9942\n",
            "Epoch 79/100\n",
            "520/520 [==============================] - 1s 1ms/step - loss: 0.0114 - accuracy: 0.9942\n",
            "Epoch 80/100\n",
            "520/520 [==============================] - 1s 1ms/step - loss: 0.0113 - accuracy: 0.9942\n",
            "Epoch 81/100\n",
            "520/520 [==============================] - 1s 1ms/step - loss: 0.0113 - accuracy: 0.9942\n",
            "Epoch 82/100\n",
            "520/520 [==============================] - 1s 1ms/step - loss: 0.0113 - accuracy: 0.9942\n",
            "Epoch 83/100\n",
            "520/520 [==============================] - 1s 1ms/step - loss: 0.0451 - accuracy: 0.9904\n",
            "Epoch 84/100\n",
            "520/520 [==============================] - 1s 1ms/step - loss: 0.0336 - accuracy: 0.9865\n",
            "Epoch 85/100\n",
            "520/520 [==============================] - 1s 1ms/step - loss: 0.0117 - accuracy: 0.9942\n",
            "Epoch 86/100\n",
            "520/520 [==============================] - 1s 1ms/step - loss: 0.0114 - accuracy: 0.9942\n",
            "Epoch 87/100\n",
            "520/520 [==============================] - 1s 1ms/step - loss: 0.0113 - accuracy: 0.9942\n",
            "Epoch 88/100\n",
            "520/520 [==============================] - 1s 1ms/step - loss: 0.0113 - accuracy: 0.9942\n",
            "Epoch 89/100\n",
            "520/520 [==============================] - 1s 1ms/step - loss: 0.0227 - accuracy: 0.9904\n",
            "Epoch 90/100\n",
            "520/520 [==============================] - 1s 1ms/step - loss: 0.0129 - accuracy: 0.9942\n",
            "Epoch 91/100\n",
            "520/520 [==============================] - 1s 1ms/step - loss: 0.0114 - accuracy: 0.9942\n",
            "Epoch 92/100\n",
            "520/520 [==============================] - 1s 1ms/step - loss: 0.0113 - accuracy: 0.9942\n",
            "Epoch 93/100\n",
            "520/520 [==============================] - 1s 1ms/step - loss: 0.0114 - accuracy: 0.9942\n",
            "Epoch 94/100\n",
            "520/520 [==============================] - 1s 1ms/step - loss: 0.0112 - accuracy: 0.9942\n",
            "Epoch 95/100\n",
            "520/520 [==============================] - 1s 1ms/step - loss: 0.0113 - accuracy: 0.9942\n",
            "Epoch 96/100\n",
            "520/520 [==============================] - 1s 1ms/step - loss: 0.0113 - accuracy: 0.9942\n",
            "Epoch 97/100\n",
            "520/520 [==============================] - 1s 1ms/step - loss: 0.0113 - accuracy: 0.9942\n",
            "Epoch 98/100\n",
            "520/520 [==============================] - 1s 1ms/step - loss: 0.0113 - accuracy: 0.9942\n",
            "Epoch 99/100\n",
            "520/520 [==============================] - 1s 1ms/step - loss: 0.0112 - accuracy: 0.9942\n",
            "Epoch 100/100\n",
            "520/520 [==============================] - 1s 1ms/step - loss: 0.0113 - accuracy: 0.9942\n",
            "17/17 [==============================] - 0s 1ms/step - loss: 0.0110 - accuracy: 0.9942\n",
            "\n",
            "accuracy: 99.42%\n"
          ],
          "name": "stdout"
        }
      ]
    },
    {
      "cell_type": "code",
      "metadata": {
        "id": "0XqMk3tNurgJ",
        "colab": {
          "base_uri": "https://localhost:8080/"
        },
        "outputId": "43228179-4ab8-4980-bcbd-abf096f60398"
      },
      "source": [
        "scores"
      ],
      "execution_count": null,
      "outputs": [
        {
          "output_type": "execute_result",
          "data": {
            "text/plain": [
              "[0.011029922403395176, 0.9942307472229004]"
            ]
          },
          "metadata": {
            "tags": []
          },
          "execution_count": 50
        }
      ]
    },
    {
      "cell_type": "markdown",
      "metadata": {
        "id": "Y9DCL6aXCpQR"
      },
      "source": [
        "## Saving the NN Model"
      ]
    },
    {
      "cell_type": "code",
      "metadata": {
        "colab": {
          "base_uri": "https://localhost:8080/"
        },
        "id": "ALCzojSkCocr",
        "outputId": "85ff78a0-6595-4da2-906a-fcf5d80d3d62"
      },
      "source": [
        "model.save('drive/MyDrive/myModel')"
      ],
      "execution_count": null,
      "outputs": [
        {
          "output_type": "stream",
          "text": [
            "INFO:tensorflow:Assets written to: drive/MyDrive/myModel/assets\n"
          ],
          "name": "stdout"
        }
      ]
    },
    {
      "cell_type": "code",
      "metadata": {
        "colab": {
          "base_uri": "https://localhost:8080/"
        },
        "id": "J_rb1mWlECt6",
        "outputId": "fac56e03-8d71-43a8-f546-6ed3558107fb"
      },
      "source": [
        "testX"
      ],
      "execution_count": null,
      "outputs": [
        {
          "output_type": "execute_result",
          "data": {
            "text/plain": [
              "array([[0., 1., 1., ..., 1., 0., 1.],\n",
              "       [0., 1., 0., ..., 0., 1., 0.],\n",
              "       [1., 0., 0., ..., 0., 0., 1.],\n",
              "       ...,\n",
              "       [0., 1., 1., ..., 0., 1., 0.],\n",
              "       [0., 1., 1., ..., 0., 0., 1.],\n",
              "       [0., 1., 0., ..., 1., 0., 1.]])"
            ]
          },
          "metadata": {
            "tags": []
          },
          "execution_count": 54
        }
      ]
    },
    {
      "cell_type": "code",
      "metadata": {
        "colab": {
          "base_uri": "https://localhost:8080/"
        },
        "id": "uGzqzBxVEK_W",
        "outputId": "e45b1310-217b-472b-bee9-3e6da50d35c2"
      },
      "source": [
        "answer = model.predict(np.array([[1,0,1,0,0,1,1,0,0,1,1,0,1,0,1,0,1,0,1,0,0,1,0,1,0,1,1,0,1,0]]))\n",
        "if answer < 1:\n",
        "  print('Negative')\n",
        "else:\n",
        "    print('Positive')"
      ],
      "execution_count": null,
      "outputs": [
        {
          "output_type": "stream",
          "text": [
            "Positive\n"
          ],
          "name": "stdout"
        }
      ]
    },
    {
      "cell_type": "code",
      "metadata": {
        "colab": {
          "base_uri": "https://localhost:8080/",
          "height": 134
        },
        "id": "_Zm8nrUbEVdO",
        "outputId": "b8ac7df5-78c7-48bc-e086-10dc333ca296"
      },
      "source": [
        "data[pred_col].iloc[[0]]"
      ],
      "execution_count": null,
      "outputs": [
        {
          "output_type": "execute_result",
          "data": {
            "text/html": [
              "<div>\n",
              "<style scoped>\n",
              "    .dataframe tbody tr th:only-of-type {\n",
              "        vertical-align: middle;\n",
              "    }\n",
              "\n",
              "    .dataframe tbody tr th {\n",
              "        vertical-align: top;\n",
              "    }\n",
              "\n",
              "    .dataframe thead th {\n",
              "        text-align: right;\n",
              "    }\n",
              "</style>\n",
              "<table border=\"1\" class=\"dataframe\">\n",
              "  <thead>\n",
              "    <tr style=\"text-align: right;\">\n",
              "      <th></th>\n",
              "      <th>Gender</th>\n",
              "      <th>Polyuria</th>\n",
              "      <th>Polydipsia</th>\n",
              "      <th>sudden weight loss</th>\n",
              "      <th>weakness</th>\n",
              "      <th>Polyphagia</th>\n",
              "      <th>Genital thrush</th>\n",
              "      <th>visual blurring</th>\n",
              "      <th>Itching</th>\n",
              "      <th>Irritability</th>\n",
              "      <th>delayed healing</th>\n",
              "      <th>partial paresis</th>\n",
              "      <th>muscle stiffness</th>\n",
              "      <th>Alopecia</th>\n",
              "      <th>Obesity</th>\n",
              "    </tr>\n",
              "  </thead>\n",
              "  <tbody>\n",
              "    <tr>\n",
              "      <th>0</th>\n",
              "      <td>Male</td>\n",
              "      <td>No</td>\n",
              "      <td>Yes</td>\n",
              "      <td>No</td>\n",
              "      <td>Yes</td>\n",
              "      <td>No</td>\n",
              "      <td>No</td>\n",
              "      <td>No</td>\n",
              "      <td>Yes</td>\n",
              "      <td>No</td>\n",
              "      <td>Yes</td>\n",
              "      <td>No</td>\n",
              "      <td>Yes</td>\n",
              "      <td>Yes</td>\n",
              "      <td>Yes</td>\n",
              "    </tr>\n",
              "  </tbody>\n",
              "</table>\n",
              "</div>"
            ],
            "text/plain": [
              "  Gender Polyuria Polydipsia  ... muscle stiffness Alopecia Obesity\n",
              "0   Male       No        Yes  ...              Yes      Yes     Yes\n",
              "\n",
              "[1 rows x 15 columns]"
            ]
          },
          "metadata": {
            "tags": []
          },
          "execution_count": 71
        }
      ]
    },
    {
      "cell_type": "code",
      "metadata": {
        "colab": {
          "base_uri": "https://localhost:8080/"
        },
        "id": "6zOOQSPyKOur",
        "outputId": "d2bd423d-3a45-4e8f-9408-bcf62fcd2a80"
      },
      "source": [
        "ans2 = model.predict(np.array([np.concatenate((gender_yes, Polyuria_yes, polydi, suddenwe, weak, polypha, genit, visual, itch, irrit, delayed,\n",
        "                                partial, muscle, alope, obe), axis=0)]))\n",
        "if ans2 < 1:\n",
        "  print('Negative')\n",
        "else:\n",
        "  print('Positive')"
      ],
      "execution_count": null,
      "outputs": [
        {
          "output_type": "stream",
          "text": [
            "Negative\n"
          ],
          "name": "stdout"
        }
      ]
    },
    {
      "cell_type": "markdown",
      "metadata": {
        "id": "11iX75KR3rnq"
      },
      "source": [
        "# Conclusion "
      ]
    },
    {
      "cell_type": "markdown",
      "metadata": {
        "id": "xJDjQkc66f1j"
      },
      "source": [
        "Among the three models tested, it is evident and obvious that the most acceptable of them all is the NeuralNetwork model using Keras. \n",
        "It gave a whooping accuracy result of 99.4%. \n",
        "\n",
        "This result is very acceptable in the medical sector as it gave very minimal error of prediction. \n",
        "\n",
        "\n",
        "Model was succesfully deployed to production and is hosted on Heroku. [Click](https://diabpredict.herokuapp.com/)"
      ]
    },
    {
      "cell_type": "markdown",
      "metadata": {
        "id": "8H1GptTe67Ms"
      },
      "source": [
        "## Suggestion"
      ]
    },
    {
      "cell_type": "markdown",
      "metadata": {
        "id": "7JVvmhkk69rH"
      },
      "source": [
        "1. More dataset can be gathered\n",
        "2. Model can further be tweaked for a better accuracy. "
      ]
    }
  ]
}